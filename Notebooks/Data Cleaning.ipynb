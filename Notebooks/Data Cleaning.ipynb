{
 "cells": [
  {
   "cell_type": "markdown",
   "id": "6273f81a",
   "metadata": {},
   "source": [
    "# Data Cleaning"
   ]
  },
  {
   "cell_type": "markdown",
   "id": "c8541221",
   "metadata": {},
   "source": [
    "### Import Relevant Libraries"
   ]
  },
  {
   "cell_type": "code",
   "execution_count": 1,
   "id": "3bafe42e",
   "metadata": {},
   "outputs": [],
   "source": [
    "import pandas as pd\n",
    "import numpy as np\n",
    "import matplotlib.pyplot as plt\n",
    "import seaborn as sns\n",
    "\n",
    "import warnings\n",
    "warnings.filterwarnings(\"ignore\", category = DeprecationWarning)\n",
    "warnings.filterwarnings(\"ignore\", category = FutureWarning)\n",
    "warnings.filterwarnings(\"ignore\", category = UserWarning)"
   ]
  },
  {
   "cell_type": "code",
   "execution_count": 2,
   "id": "e52d08d0",
   "metadata": {},
   "outputs": [],
   "source": [
    "# CSV with basic draft info\n",
    "player_info = pd.read_csv('./Data/nfl_draft_prospects.csv')\n",
    "\n",
    "# CSV with the scouting reports for players\n",
    "draft = pd.read_csv('./Data/nfl_draft_profiles_update.csv')\n",
    "\n",
    "# Excel file with the 2022 scouting reports\n",
    "draft2022 = pd.read_excel('./Data/reports2022.xlsx',index_col=0)"
   ]
  },
  {
   "cell_type": "code",
   "execution_count": 3,
   "id": "c8d438a5",
   "metadata": {},
   "outputs": [],
   "source": [
    "# Combine draft info with scouting reports\n",
    "scout2 = draft.merge(player_info,how='left',on='player_id')"
   ]
  },
  {
   "cell_type": "code",
   "execution_count": 4,
   "id": "2583afa0",
   "metadata": {},
   "outputs": [
    {
     "data": {
      "text/plain": [
       "Index(['player_id', 'guid_x', 'alt_player_id', 'player_name_x', 'position_x',\n",
       "       'pos_abbr_x', 'weight_x', 'height_x', 'player_image_x', 'link_x',\n",
       "       'school_logo', 'school_x', 'school_abbr_x', 'school_name_x', 'pos_rk_x',\n",
       "       'ovr_rk_x', 'grade_x', 'text1', 'text2', 'text3', 'text4', 'draft_year',\n",
       "       'player_name_y', 'concat', 'position_y', 'pos_abbr_y', 'school_y',\n",
       "       'school_name_y', 'school_abbr_y', 'link_y', 'pick', 'overall', 'round',\n",
       "       'traded', 'trade_note', 'team', 'team_abbr', 'team_logo_espn', 'guid_y',\n",
       "       'weight_y', 'height_y', 'pos_rk_y', 'ovr_rk_y', 'grade_y',\n",
       "       'player_image_y'],\n",
       "      dtype='object')"
      ]
     },
     "execution_count": 4,
     "metadata": {},
     "output_type": "execute_result"
    }
   ],
   "source": [
    "scout2.columns"
   ]
  },
  {
   "cell_type": "code",
   "execution_count": 5,
   "id": "d2ac99a4",
   "metadata": {},
   "outputs": [
    {
     "name": "stderr",
     "output_type": "stream",
     "text": [
      "C:\\Users\\capta\\AppData\\Local\\Temp\\ipykernel_24356\\3422529145.py:1: FutureWarning: The frame.append method is deprecated and will be removed from pandas in a future version. Use pandas.concat instead.\n",
      "  add2022 = scout2.append(draft2022)\n"
     ]
    }
   ],
   "source": [
    "# Add 2022 draft info and reports to 2005-2021 data\n",
    "add2022 = scout2.append(draft2022)"
   ]
  },
  {
   "cell_type": "code",
   "execution_count": 6,
   "id": "0b12da1c",
   "metadata": {},
   "outputs": [],
   "source": [
    "# Select only relevant columns\n",
    "scout = add2022[['player_name_x','pos_abbr_x','weight_x','height_x','school_x','pos_rk_x','ovr_rk_x','grade_x','text1','text2','text3','text4','draft_year','overall','round','team_abbr']]"
   ]
  },
  {
   "cell_type": "code",
   "execution_count": 7,
   "id": "997b1b1e",
   "metadata": {},
   "outputs": [],
   "source": [
    "# Find all players that have a report\n",
    "texts_orig = scout[(scout.text1.notna())|(scout.text2.notna())|(scout.text3.notna())|(scout.text4.notna())]"
   ]
  },
  {
   "cell_type": "code",
   "execution_count": 8,
   "id": "0d4410c2",
   "metadata": {},
   "outputs": [],
   "source": [
    "# Select only players and reports from 2005 or later\n",
    "texts = scout[scout.draft_year >= 2005]"
   ]
  },
  {
   "cell_type": "code",
   "execution_count": 9,
   "id": "6b25a924",
   "metadata": {},
   "outputs": [
    {
     "name": "stderr",
     "output_type": "stream",
     "text": [
      "C:\\Users\\capta\\AppData\\Local\\Temp\\ipykernel_24356\\982957188.py:1: SettingWithCopyWarning: \n",
      "A value is trying to be set on a copy of a slice from a DataFrame.\n",
      "Try using .loc[row_indexer,col_indexer] = value instead\n",
      "\n",
      "See the caveats in the documentation: https://pandas.pydata.org/pandas-docs/stable/user_guide/indexing.html#returning-a-view-versus-a-copy\n",
      "  texts['report'] = None\n"
     ]
    }
   ],
   "source": [
    "# Create blank column to put the final report into\n",
    "texts['report'] = None"
   ]
  },
  {
   "cell_type": "markdown",
   "id": "ec16150f",
   "metadata": {},
   "source": [
    "### Remove Post-Draft Analysis text from scouting report"
   ]
  },
  {
   "cell_type": "code",
   "execution_count": 10,
   "id": "7c9bd856",
   "metadata": {},
   "outputs": [
    {
     "name": "stderr",
     "output_type": "stream",
     "text": [
      "C:\\Users\\capta\\AppData\\Local\\Temp\\ipykernel_24356\\533545784.py:1: SettingWithCopyWarning: \n",
      "A value is trying to be set on a copy of a slice from a DataFrame\n",
      "\n",
      "See the caveats in the documentation: https://pandas.pydata.org/pandas-docs/stable/user_guide/indexing.html#returning-a-view-versus-a-copy\n",
      "  texts.text2[(texts.text2.str.contains(\"How he fits\",na=False)) & (texts.text1.isna())] = texts.text2[(texts.text2.str.contains(\"How he fits\",na=False)) & (texts.text1.isna())].apply(lambda x: str(x).split(\"How he fits\")[0])\n",
      "C:\\Users\\capta\\AppData\\Local\\Temp\\ipykernel_24356\\533545784.py:1: SettingWithCopyWarning: \n",
      "A value is trying to be set on a copy of a slice from a DataFrame\n",
      "\n",
      "See the caveats in the documentation: https://pandas.pydata.org/pandas-docs/stable/user_guide/indexing.html#returning-a-view-versus-a-copy\n",
      "  texts.text2[(texts.text2.str.contains(\"How he fits\",na=False)) & (texts.text1.isna())] = texts.text2[(texts.text2.str.contains(\"How he fits\",na=False)) & (texts.text1.isna())].apply(lambda x: str(x).split(\"How he fits\")[0])\n"
     ]
    }
   ],
   "source": [
    "texts.text2[(texts.text2.str.contains(\"How he fits\",na=False)) & (texts.text1.isna())] = texts.text2[(texts.text2.str.contains(\"How he fits\",na=False)) & (texts.text1.isna())].apply(lambda x: str(x).split(\"How he fits\")[0])"
   ]
  },
  {
   "cell_type": "markdown",
   "id": "2e8e9b02",
   "metadata": {},
   "source": [
    "### Remove \"What he brings\" header from scouting report"
   ]
  },
  {
   "cell_type": "code",
   "execution_count": 11,
   "id": "4a3ee6cb",
   "metadata": {},
   "outputs": [
    {
     "name": "stderr",
     "output_type": "stream",
     "text": [
      "C:\\Users\\capta\\AppData\\Local\\Temp\\ipykernel_24356\\3585158994.py:1: SettingWithCopyWarning: \n",
      "A value is trying to be set on a copy of a slice from a DataFrame\n",
      "\n",
      "See the caveats in the documentation: https://pandas.pydata.org/pandas-docs/stable/user_guide/indexing.html#returning-a-view-versus-a-copy\n",
      "  texts.text2[(texts.text2.str.contains(\"What he brings\",na=False)) & (texts.text1.isna())] = texts.text2[(texts.text2.str.contains(\"What he brings\",na=False)) & (texts.text1.isna())].apply(lambda x: str(x).split(\"What he brings\")[1])\n",
      "C:\\Users\\capta\\AppData\\Local\\Temp\\ipykernel_24356\\3585158994.py:1: SettingWithCopyWarning: \n",
      "A value is trying to be set on a copy of a slice from a DataFrame\n",
      "\n",
      "See the caveats in the documentation: https://pandas.pydata.org/pandas-docs/stable/user_guide/indexing.html#returning-a-view-versus-a-copy\n",
      "  texts.text2[(texts.text2.str.contains(\"What he brings\",na=False)) & (texts.text1.isna())] = texts.text2[(texts.text2.str.contains(\"What he brings\",na=False)) & (texts.text1.isna())].apply(lambda x: str(x).split(\"What he brings\")[1])\n"
     ]
    }
   ],
   "source": [
    "texts.text2[(texts.text2.str.contains(\"What he brings\",na=False)) & (texts.text1.isna())] = texts.text2[(texts.text2.str.contains(\"What he brings\",na=False)) & (texts.text1.isna())].apply(lambda x: str(x).split(\"What he brings\")[1])"
   ]
  },
  {
   "cell_type": "markdown",
   "id": "8a75a5ec",
   "metadata": {},
   "source": [
    "### Move the best report for each player from the text column into the report column"
   ]
  },
  {
   "cell_type": "code",
   "execution_count": 12,
   "id": "4099774c",
   "metadata": {},
   "outputs": [],
   "source": [
    "texts.loc[(texts.text1.notna()),'report'] = texts.loc[(texts.text1.notna())].text1 "
   ]
  },
  {
   "cell_type": "code",
   "execution_count": 13,
   "id": "edc3d85b",
   "metadata": {},
   "outputs": [],
   "source": [
    "texts.loc[(texts.text4.notna())&(texts.text1.isna()),'report'] = texts.loc[(texts.text4.notna())&(texts.text1.isna())].text4"
   ]
  },
  {
   "cell_type": "code",
   "execution_count": 14,
   "id": "d0d95729",
   "metadata": {},
   "outputs": [],
   "source": [
    "texts.loc[(texts.text2.notna())&(texts.text1.isna()),'report'] = texts.loc[(texts.text2.notna())&(texts.text1.isna())].text2 "
   ]
  },
  {
   "cell_type": "code",
   "execution_count": 15,
   "id": "aecc6a25",
   "metadata": {},
   "outputs": [],
   "source": [
    "texts.loc[(texts.text2.isna())&(texts.text1.isna())&(texts.text3.notna()),'report'] = texts.loc[(texts.text2.isna())&(texts.text1.isna())&(texts.text3.notna())].text3 "
   ]
  },
  {
   "cell_type": "code",
   "execution_count": 16,
   "id": "d4417073",
   "metadata": {},
   "outputs": [],
   "source": [
    "texts.reset_index(inplace=True)"
   ]
  },
  {
   "cell_type": "code",
   "execution_count": 17,
   "id": "82842e4e",
   "metadata": {},
   "outputs": [
    {
     "name": "stderr",
     "output_type": "stream",
     "text": [
      "C:\\Users\\capta\\AppData\\Local\\Temp\\ipykernel_24356\\3926660189.py:1: SettingWithCopyWarning: \n",
      "A value is trying to be set on a copy of a slice from a DataFrame\n",
      "\n",
      "See the caveats in the documentation: https://pandas.pydata.org/pandas-docs/stable/user_guide/indexing.html#returning-a-view-versus-a-copy\n",
      "  texts.drop(['index'],axis=1,inplace=True)\n"
     ]
    }
   ],
   "source": [
    "texts.drop(['index'],axis=1,inplace=True)"
   ]
  },
  {
   "cell_type": "code",
   "execution_count": 18,
   "id": "fbbb8853",
   "metadata": {},
   "outputs": [
    {
     "name": "stderr",
     "output_type": "stream",
     "text": [
      "C:\\Users\\capta\\AppData\\Local\\Temp\\ipykernel_24356\\3885968547.py:1: SettingWithCopyWarning: \n",
      "A value is trying to be set on a copy of a slice from a DataFrame.\n",
      "Try using .loc[row_indexer,col_indexer] = value instead\n",
      "\n",
      "See the caveats in the documentation: https://pandas.pydata.org/pandas-docs/stable/user_guide/indexing.html#returning-a-view-versus-a-copy\n",
      "  texts['rawreport'] = texts.report\n"
     ]
    }
   ],
   "source": [
    "texts['rawreport'] = texts.report"
   ]
  },
  {
   "cell_type": "markdown",
   "id": "4511cb3c",
   "metadata": {},
   "source": [
    "### Clean report text to be used in NLP"
   ]
  },
  {
   "cell_type": "code",
   "execution_count": 19,
   "id": "3194e9c6",
   "metadata": {},
   "outputs": [
    {
     "name": "stderr",
     "output_type": "stream",
     "text": [
      "C:\\Users\\capta\\AppData\\Local\\Temp\\ipykernel_24356\\1627949020.py:1: SettingWithCopyWarning: \n",
      "A value is trying to be set on a copy of a slice from a DataFrame\n",
      "\n",
      "See the caveats in the documentation: https://pandas.pydata.org/pandas-docs/stable/user_guide/indexing.html#returning-a-view-versus-a-copy\n",
      "  texts.report[texts.report.str.contains('<br>',na=False)] = texts.report[texts.report.str.contains('<br>',na=False)].apply(lambda x: str(x).split('<br>')[0])\n"
     ]
    }
   ],
   "source": [
    "texts.report[texts.report.str.contains('<br>',na=False)] = texts.report[texts.report.str.contains('<br>',na=False)].apply(lambda x: str(x).split('<br>')[0])"
   ]
  },
  {
   "cell_type": "code",
   "execution_count": 20,
   "id": "d0945c45",
   "metadata": {},
   "outputs": [
    {
     "name": "stderr",
     "output_type": "stream",
     "text": [
      "C:\\Users\\capta\\AppData\\Local\\Temp\\ipykernel_24356\\3308517834.py:1: SettingWithCopyWarning: \n",
      "A value is trying to be set on a copy of a slice from a DataFrame\n",
      "\n",
      "See the caveats in the documentation: https://pandas.pydata.org/pandas-docs/stable/user_guide/indexing.html#returning-a-view-versus-a-copy\n",
      "  texts.report[texts.report.str.contains('<p>',na=False)] = texts.report[texts.report.str.contains('<p>',na=False)].apply(lambda x: str(x).replace('<p>',\"\"))\n"
     ]
    }
   ],
   "source": [
    "texts.report[texts.report.str.contains('<p>',na=False)] = texts.report[texts.report.str.contains('<p>',na=False)].apply(lambda x: str(x).replace('<p>',\"\"))"
   ]
  },
  {
   "cell_type": "code",
   "execution_count": 21,
   "id": "4fbd5a78",
   "metadata": {},
   "outputs": [
    {
     "name": "stderr",
     "output_type": "stream",
     "text": [
      "C:\\Users\\capta\\AppData\\Local\\Temp\\ipykernel_24356\\2662233382.py:1: SettingWithCopyWarning: \n",
      "A value is trying to be set on a copy of a slice from a DataFrame\n",
      "\n",
      "See the caveats in the documentation: https://pandas.pydata.org/pandas-docs/stable/user_guide/indexing.html#returning-a-view-versus-a-copy\n",
      "  texts.report[texts.report.str.contains('</p>',na=False)] = texts.report[texts.report.str.contains('</p>',na=False)].apply(lambda x: str(x).replace('</p>',\"\"))\n"
     ]
    }
   ],
   "source": [
    "texts.report[texts.report.str.contains('</p>',na=False)] = texts.report[texts.report.str.contains('</p>',na=False)].apply(lambda x: str(x).replace('</p>',\"\"))"
   ]
  },
  {
   "cell_type": "code",
   "execution_count": 22,
   "id": "dcd04da0",
   "metadata": {},
   "outputs": [
    {
     "name": "stderr",
     "output_type": "stream",
     "text": [
      "C:\\Users\\capta\\AppData\\Local\\Temp\\ipykernel_24356\\2465023052.py:1: SettingWithCopyWarning: \n",
      "A value is trying to be set on a copy of a slice from a DataFrame\n",
      "\n",
      "See the caveats in the documentation: https://pandas.pydata.org/pandas-docs/stable/user_guide/indexing.html#returning-a-view-versus-a-copy\n",
      "  texts.report[texts.report.str.contains('<a',na=False)] = texts.report[texts.report.str.contains('<a',na=False)].apply(lambda x: str(x).split('<a')[0])\n"
     ]
    }
   ],
   "source": [
    "texts.report[texts.report.str.contains('<a',na=False)] = texts.report[texts.report.str.contains('<a',na=False)].apply(lambda x: str(x).split('<a')[0])"
   ]
  },
  {
   "cell_type": "code",
   "execution_count": 23,
   "id": "f2e947bd",
   "metadata": {},
   "outputs": [
    {
     "name": "stderr",
     "output_type": "stream",
     "text": [
      "C:\\Users\\capta\\AppData\\Local\\Temp\\ipykernel_24356\\1723811321.py:1: SettingWithCopyWarning: \n",
      "A value is trying to be set on a copy of a slice from a DataFrame\n",
      "\n",
      "See the caveats in the documentation: https://pandas.pydata.org/pandas-docs/stable/user_guide/indexing.html#returning-a-view-versus-a-copy\n",
      "  texts.report[texts.report.str.contains('Video analysis',na=False)] = texts.report[texts.report.str.contains('Video analysis',na=False)].apply(lambda x: str(x).split('Video analysis')[0])\n"
     ]
    }
   ],
   "source": [
    "texts.report[texts.report.str.contains('Video analysis',na=False)] = texts.report[texts.report.str.contains('Video analysis',na=False)].apply(lambda x: str(x).split('Video analysis')[0])"
   ]
  },
  {
   "cell_type": "code",
   "execution_count": 24,
   "id": "0e5e3157",
   "metadata": {},
   "outputs": [
    {
     "name": "stderr",
     "output_type": "stream",
     "text": [
      "C:\\Users\\capta\\AppData\\Local\\Temp\\ipykernel_24356\\2806286090.py:1: SettingWithCopyWarning: \n",
      "A value is trying to be set on a copy of a slice from a DataFrame\n",
      "\n",
      "See the caveats in the documentation: https://pandas.pydata.org/pandas-docs/stable/user_guide/indexing.html#returning-a-view-versus-a-copy\n",
      "  texts.report[texts.report.str.contains('</br>\\r\\n',na=False)] = texts.report[texts.report.str.contains('</br>\\r\\n',na=False)].apply(lambda x: str(x).replace('</br>\\r\\n',\"\"))\n"
     ]
    }
   ],
   "source": [
    "texts.report[texts.report.str.contains('</br>\\r\\n',na=False)] = texts.report[texts.report.str.contains('</br>\\r\\n',na=False)].apply(lambda x: str(x).replace('</br>\\r\\n',\"\"))"
   ]
  },
  {
   "cell_type": "code",
   "execution_count": 25,
   "id": "a6fccc12",
   "metadata": {},
   "outputs": [
    {
     "name": "stderr",
     "output_type": "stream",
     "text": [
      "C:\\Users\\capta\\AppData\\Local\\Temp\\ipykernel_24356\\512464433.py:1: SettingWithCopyWarning: \n",
      "A value is trying to be set on a copy of a slice from a DataFrame\n",
      "\n",
      "See the caveats in the documentation: https://pandas.pydata.org/pandas-docs/stable/user_guide/indexing.html#returning-a-view-versus-a-copy\n",
      "  texts.report[texts.report.str.contains('<em>',na=False)] = texts.report[texts.report.str.contains('<em>',na=False)].apply(lambda x: str(x).split('<em>')[0])\n"
     ]
    }
   ],
   "source": [
    "texts.report[texts.report.str.contains('<em>',na=False)] = texts.report[texts.report.str.contains('<em>',na=False)].apply(lambda x: str(x).split('<em>')[0])"
   ]
  },
  {
   "cell_type": "code",
   "execution_count": 26,
   "id": "630025cf",
   "metadata": {},
   "outputs": [
    {
     "name": "stderr",
     "output_type": "stream",
     "text": [
      "C:\\Users\\capta\\AppData\\Local\\Temp\\ipykernel_24356\\2362230250.py:1: SettingWithCopyWarning: \n",
      "A value is trying to be set on a copy of a slice from a DataFrame\n",
      "\n",
      "See the caveats in the documentation: https://pandas.pydata.org/pandas-docs/stable/user_guide/indexing.html#returning-a-view-versus-a-copy\n",
      "  texts.report[texts.report.str.contains('<i>--',na=False)] = texts.report[texts.report.str.contains('<i>--',na=False)].apply(lambda x: str(x).split('<i>--')[0])\n"
     ]
    }
   ],
   "source": [
    "texts.report[texts.report.str.contains('<i>--',na=False)] = texts.report[texts.report.str.contains('<i>--',na=False)].apply(lambda x: str(x).split('<i>--')[0])"
   ]
  },
  {
   "cell_type": "code",
   "execution_count": 27,
   "id": "d1bfd6e6",
   "metadata": {},
   "outputs": [
    {
     "name": "stderr",
     "output_type": "stream",
     "text": [
      "C:\\Users\\capta\\AppData\\Local\\Temp\\ipykernel_24356\\1846342459.py:1: SettingWithCopyWarning: \n",
      "A value is trying to be set on a copy of a slice from a DataFrame\n",
      "\n",
      "See the caveats in the documentation: https://pandas.pydata.org/pandas-docs/stable/user_guide/indexing.html#returning-a-view-versus-a-copy\n",
      "  texts.report[texts.report.str.contains('<i> -',na=False)] = texts.report[texts.report.str.contains('<i> -',na=False)].apply(lambda x: str(x).split('<i> -')[0])\n"
     ]
    }
   ],
   "source": [
    "texts.report[texts.report.str.contains('<i> -',na=False)] = texts.report[texts.report.str.contains('<i> -',na=False)].apply(lambda x: str(x).split('<i> -')[0])"
   ]
  },
  {
   "cell_type": "code",
   "execution_count": 28,
   "id": "4789f67d",
   "metadata": {},
   "outputs": [
    {
     "name": "stderr",
     "output_type": "stream",
     "text": [
      "C:\\Users\\capta\\AppData\\Local\\Temp\\ipykernel_24356\\1689045211.py:1: SettingWithCopyWarning: \n",
      "A value is trying to be set on a copy of a slice from a DataFrame\n",
      "\n",
      "See the caveats in the documentation: https://pandas.pydata.org/pandas-docs/stable/user_guide/indexing.html#returning-a-view-versus-a-copy\n",
      "  texts.report[texts.report.str.contains('<i>',na=False)] = texts.report[texts.report.str.contains('<i>',na=False)].apply(lambda x: str(x).replace('<i>',\"\"))\n"
     ]
    }
   ],
   "source": [
    "texts.report[texts.report.str.contains('<i>',na=False)] = texts.report[texts.report.str.contains('<i>',na=False)].apply(lambda x: str(x).replace('<i>',\"\"))"
   ]
  },
  {
   "cell_type": "code",
   "execution_count": 29,
   "id": "0a416f37",
   "metadata": {},
   "outputs": [
    {
     "name": "stderr",
     "output_type": "stream",
     "text": [
      "C:\\Users\\capta\\AppData\\Local\\Temp\\ipykernel_24356\\1414034982.py:1: SettingWithCopyWarning: \n",
      "A value is trying to be set on a copy of a slice from a DataFrame\n",
      "\n",
      "See the caveats in the documentation: https://pandas.pydata.org/pandas-docs/stable/user_guide/indexing.html#returning-a-view-versus-a-copy\n",
      "  texts.report[texts.report.str.contains('</i>',na=False)] = texts.report[texts.report.str.contains('</i>',na=False)].apply(lambda x: str(x).replace('</i>',\"\"))\n"
     ]
    }
   ],
   "source": [
    "texts.report[texts.report.str.contains('</i>',na=False)] = texts.report[texts.report.str.contains('</i>',na=False)].apply(lambda x: str(x).replace('</i>',\"\"))"
   ]
  },
  {
   "cell_type": "code",
   "execution_count": 30,
   "id": "f988d95e",
   "metadata": {},
   "outputs": [
    {
     "name": "stderr",
     "output_type": "stream",
     "text": [
      "C:\\Users\\capta\\AppData\\Local\\Temp\\ipykernel_24356\\2463272057.py:1: SettingWithCopyWarning: \n",
      "A value is trying to be set on a copy of a slice from a DataFrame\n",
      "\n",
      "See the caveats in the documentation: https://pandas.pydata.org/pandas-docs/stable/user_guide/indexing.html#returning-a-view-versus-a-copy\n",
      "  texts.report[texts.report.str.contains('</strong> ',na=False)] = texts.report[texts.report.str.contains('</strong> ',na=False)].apply(lambda x: str(x).replace('</strong> ',\"\"))\n"
     ]
    }
   ],
   "source": [
    "texts.report[texts.report.str.contains('</strong> ',na=False)] = texts.report[texts.report.str.contains('</strong> ',na=False)].apply(lambda x: str(x).replace('</strong> ',\"\"))"
   ]
  },
  {
   "cell_type": "code",
   "execution_count": 31,
   "id": "db117b3c",
   "metadata": {},
   "outputs": [
    {
     "name": "stderr",
     "output_type": "stream",
     "text": [
      "C:\\Users\\capta\\AppData\\Local\\Temp\\ipykernel_24356\\3622998381.py:1: SettingWithCopyWarning: \n",
      "A value is trying to be set on a copy of a slice from a DataFrame\n",
      "\n",
      "See the caveats in the documentation: https://pandas.pydata.org/pandas-docs/stable/user_guide/indexing.html#returning-a-view-versus-a-copy\n",
      "  texts.report[texts.report.str.contains('\\r\\n<strong>',na=False)] = texts.report[texts.report.str.contains('\\r\\n<strong>',na=False)].apply(lambda x: str(x).replace('\\r\\n<strong>',\"\"))\n"
     ]
    }
   ],
   "source": [
    "texts.report[texts.report.str.contains('\\r\\n<strong>',na=False)] = texts.report[texts.report.str.contains('\\r\\n<strong>',na=False)].apply(lambda x: str(x).replace('\\r\\n<strong>',\"\"))"
   ]
  },
  {
   "cell_type": "code",
   "execution_count": 32,
   "id": "b39a64ba",
   "metadata": {},
   "outputs": [
    {
     "name": "stderr",
     "output_type": "stream",
     "text": [
      "C:\\Users\\capta\\AppData\\Local\\Temp\\ipykernel_24356\\2152031530.py:1: SettingWithCopyWarning: \n",
      "A value is trying to be set on a copy of a slice from a DataFrame\n",
      "\n",
      "See the caveats in the documentation: https://pandas.pydata.org/pandas-docs/stable/user_guide/indexing.html#returning-a-view-versus-a-copy\n",
      "  texts.report[texts.report.str.contains('</strong>\\r\\n',na=False)] = texts.report[texts.report.str.contains('</strong>\\r\\n',na=False)].apply(lambda x: str(x).replace('</strong>\\r\\n',\"\"))\n"
     ]
    }
   ],
   "source": [
    "texts.report[texts.report.str.contains('</strong>\\r\\n',na=False)] = texts.report[texts.report.str.contains('</strong>\\r\\n',na=False)].apply(lambda x: str(x).replace('</strong>\\r\\n',\"\"))"
   ]
  },
  {
   "cell_type": "code",
   "execution_count": 33,
   "id": "3d5735cd",
   "metadata": {},
   "outputs": [
    {
     "name": "stderr",
     "output_type": "stream",
     "text": [
      "C:\\Users\\capta\\AppData\\Local\\Temp\\ipykernel_24356\\3760746426.py:1: SettingWithCopyWarning: \n",
      "A value is trying to be set on a copy of a slice from a DataFrame\n",
      "\n",
      "See the caveats in the documentation: https://pandas.pydata.org/pandas-docs/stable/user_guide/indexing.html#returning-a-view-versus-a-copy\n",
      "  texts.report[texts.report.str.contains('<strong>',na=False)] = texts.report[texts.report.str.contains('<strong>',na=False)].apply(lambda x: str(x).replace('<strong>',\"\"))\n"
     ]
    }
   ],
   "source": [
    "texts.report[texts.report.str.contains('<strong>',na=False)] = texts.report[texts.report.str.contains('<strong>',na=False)].apply(lambda x: str(x).replace('<strong>',\"\"))"
   ]
  },
  {
   "cell_type": "code",
   "execution_count": 34,
   "id": "30c30b7d",
   "metadata": {},
   "outputs": [
    {
     "name": "stderr",
     "output_type": "stream",
     "text": [
      "C:\\Users\\capta\\AppData\\Local\\Temp\\ipykernel_24356\\3611240546.py:1: SettingWithCopyWarning: \n",
      "A value is trying to be set on a copy of a slice from a DataFrame\n",
      "\n",
      "See the caveats in the documentation: https://pandas.pydata.org/pandas-docs/stable/user_guide/indexing.html#returning-a-view-versus-a-copy\n",
      "  texts.report[texts.report.str.contains('</p',na=False)] = texts.report[texts.report.str.contains('</p',na=False)].apply(lambda x: str(x).replace('</p',\"\"))\n"
     ]
    }
   ],
   "source": [
    "texts.report[texts.report.str.contains('</p',na=False)] = texts.report[texts.report.str.contains('</p',na=False)].apply(lambda x: str(x).replace('</p',\"\"))"
   ]
  },
  {
   "cell_type": "code",
   "execution_count": 35,
   "id": "f23e5094",
   "metadata": {},
   "outputs": [
    {
     "data": {
      "text/plain": [
       "Index(['player_name_x', 'pos_abbr_x', 'weight_x', 'height_x', 'school_x',\n",
       "       'pos_rk_x', 'ovr_rk_x', 'grade_x', 'text1', 'text2', 'text3', 'text4',\n",
       "       'draft_year', 'overall', 'round', 'team_abbr', 'report', 'rawreport'],\n",
       "      dtype='object')"
      ]
     },
     "execution_count": 35,
     "metadata": {},
     "output_type": "execute_result"
    }
   ],
   "source": [
    "texts.columns"
   ]
  },
  {
   "cell_type": "code",
   "execution_count": 36,
   "id": "28dbeb96",
   "metadata": {},
   "outputs": [],
   "source": [
    "# Select only relevant columns for NLP\n",
    "report = texts[['player_name_x','report','round','draft_year','overall','pos_abbr_x','weight_x','height_x','pos_rk_x','ovr_rk_x','grade_x','school_x']]"
   ]
  },
  {
   "cell_type": "code",
   "execution_count": 37,
   "id": "fd17de27",
   "metadata": {},
   "outputs": [],
   "source": [
    "# Rename columns\n",
    "report.columns=['player','report','Round','year','pick','pos','weight','height','pos_rk','ovr_rk','grade','school']"
   ]
  },
  {
   "cell_type": "markdown",
   "id": "27dc84b6",
   "metadata": {},
   "source": [
    "### Fill missing Round, Pick, and Pos information"
   ]
  },
  {
   "cell_type": "code",
   "execution_count": 39,
   "id": "11b5d0e1",
   "metadata": {},
   "outputs": [],
   "source": [
    "reportnon22 = report[report.year != 2022]"
   ]
  },
  {
   "cell_type": "code",
   "execution_count": 40,
   "id": "69fbc6dc",
   "metadata": {},
   "outputs": [],
   "source": [
    "report22 = report[report.year == 2022]"
   ]
  },
  {
   "cell_type": "code",
   "execution_count": 42,
   "id": "e80add58",
   "metadata": {},
   "outputs": [],
   "source": [
    "# All drafted players from 2005 - 2022\n",
    "drafts0522 = pd.read_parquet('./Data/draft0522.parquet')"
   ]
  },
  {
   "cell_type": "code",
   "execution_count": 43,
   "id": "8b5f905c",
   "metadata": {},
   "outputs": [
    {
     "data": {
      "text/html": [
       "<div>\n",
       "<style scoped>\n",
       "    .dataframe tbody tr th:only-of-type {\n",
       "        vertical-align: middle;\n",
       "    }\n",
       "\n",
       "    .dataframe tbody tr th {\n",
       "        vertical-align: top;\n",
       "    }\n",
       "\n",
       "    .dataframe thead th {\n",
       "        text-align: right;\n",
       "    }\n",
       "</style>\n",
       "<table border=\"1\" class=\"dataframe\">\n",
       "  <thead>\n",
       "    <tr style=\"text-align: right;\">\n",
       "      <th></th>\n",
       "      <th>Draft_Yr</th>\n",
       "      <th>Rnd</th>\n",
       "      <th>Pick</th>\n",
       "      <th>Tm</th>\n",
       "      <th>Player</th>\n",
       "      <th>Pos</th>\n",
       "      <th>Age</th>\n",
       "      <th>To</th>\n",
       "      <th>College/Univ</th>\n",
       "      <th>Player_NFL_Link</th>\n",
       "      <th>Player_NCAA_Link</th>\n",
       "    </tr>\n",
       "  </thead>\n",
       "  <tbody>\n",
       "    <tr>\n",
       "      <th>0</th>\n",
       "      <td>2005</td>\n",
       "      <td>1</td>\n",
       "      <td>1</td>\n",
       "      <td>SFO</td>\n",
       "      <td>Alex Smith</td>\n",
       "      <td>QB</td>\n",
       "      <td>21</td>\n",
       "      <td>2020</td>\n",
       "      <td>Utah</td>\n",
       "      <td>/players/S/SmitAl03.htm</td>\n",
       "      <td>http://www.sports-reference.com/cfb/players/al...</td>\n",
       "    </tr>\n",
       "    <tr>\n",
       "      <th>1</th>\n",
       "      <td>2005</td>\n",
       "      <td>1</td>\n",
       "      <td>2</td>\n",
       "      <td>MIA</td>\n",
       "      <td>Ronnie Brown</td>\n",
       "      <td>RB</td>\n",
       "      <td>23</td>\n",
       "      <td>2014</td>\n",
       "      <td>Auburn</td>\n",
       "      <td>/players/B/BrowRo05.htm</td>\n",
       "      <td>http://www.sports-reference.com/cfb/players/ro...</td>\n",
       "    </tr>\n",
       "    <tr>\n",
       "      <th>2</th>\n",
       "      <td>2005</td>\n",
       "      <td>1</td>\n",
       "      <td>3</td>\n",
       "      <td>CLE</td>\n",
       "      <td>Braylon Edwards</td>\n",
       "      <td>WR</td>\n",
       "      <td>22</td>\n",
       "      <td>2012</td>\n",
       "      <td>Michigan</td>\n",
       "      <td>/players/E/EdwaBr00.htm</td>\n",
       "      <td>http://www.sports-reference.com/cfb/players/br...</td>\n",
       "    </tr>\n",
       "    <tr>\n",
       "      <th>3</th>\n",
       "      <td>2005</td>\n",
       "      <td>1</td>\n",
       "      <td>4</td>\n",
       "      <td>CHI</td>\n",
       "      <td>Cedric Benson</td>\n",
       "      <td>RB</td>\n",
       "      <td>22</td>\n",
       "      <td>2012</td>\n",
       "      <td>Texas</td>\n",
       "      <td>/players/B/BensCe00.htm</td>\n",
       "      <td>http://www.sports-reference.com/cfb/players/ce...</td>\n",
       "    </tr>\n",
       "    <tr>\n",
       "      <th>4</th>\n",
       "      <td>2005</td>\n",
       "      <td>1</td>\n",
       "      <td>5</td>\n",
       "      <td>TAM</td>\n",
       "      <td>Cadillac Williams</td>\n",
       "      <td>RB</td>\n",
       "      <td>23</td>\n",
       "      <td>2011</td>\n",
       "      <td>Auburn</td>\n",
       "      <td>/players/W/WillCa02.htm</td>\n",
       "      <td>http://www.sports-reference.com/cfb/players/ca...</td>\n",
       "    </tr>\n",
       "    <tr>\n",
       "      <th>...</th>\n",
       "      <td>...</td>\n",
       "      <td>...</td>\n",
       "      <td>...</td>\n",
       "      <td>...</td>\n",
       "      <td>...</td>\n",
       "      <td>...</td>\n",
       "      <td>...</td>\n",
       "      <td>...</td>\n",
       "      <td>...</td>\n",
       "      <td>...</td>\n",
       "      <td>...</td>\n",
       "    </tr>\n",
       "    <tr>\n",
       "      <th>4696</th>\n",
       "      <td>2022</td>\n",
       "      <td>7</td>\n",
       "      <td>258</td>\n",
       "      <td>GNB</td>\n",
       "      <td>Samori Toure</td>\n",
       "      <td>WR</td>\n",
       "      <td>24</td>\n",
       "      <td>2022</td>\n",
       "      <td>Nebraska</td>\n",
       "      <td>/players/T/TourSa00.htm</td>\n",
       "      <td>http://www.sports-reference.com/cfb/players/sa...</td>\n",
       "    </tr>\n",
       "    <tr>\n",
       "      <th>4697</th>\n",
       "      <td>2022</td>\n",
       "      <td>7</td>\n",
       "      <td>259</td>\n",
       "      <td>KAN</td>\n",
       "      <td>Nazeeh Johnson</td>\n",
       "      <td>SAF</td>\n",
       "      <td>24</td>\n",
       "      <td>2022</td>\n",
       "      <td>Marshall</td>\n",
       "      <td>/players/J/JohnNa01.htm</td>\n",
       "      <td>http://www.sports-reference.com/cfb/players/na...</td>\n",
       "    </tr>\n",
       "    <tr>\n",
       "      <th>4698</th>\n",
       "      <td>2022</td>\n",
       "      <td>7</td>\n",
       "      <td>260</td>\n",
       "      <td>LAC</td>\n",
       "      <td>Zander Horvath</td>\n",
       "      <td>RB</td>\n",
       "      <td>23</td>\n",
       "      <td>2022</td>\n",
       "      <td>Purdue</td>\n",
       "      <td>/players/H/HorvZa00.htm</td>\n",
       "      <td>http://www.sports-reference.com/cfb/players/al...</td>\n",
       "    </tr>\n",
       "    <tr>\n",
       "      <th>4699</th>\n",
       "      <td>2022</td>\n",
       "      <td>7</td>\n",
       "      <td>261</td>\n",
       "      <td>LAR</td>\n",
       "      <td>AJ Arcuri</td>\n",
       "      <td>OT</td>\n",
       "      <td>25</td>\n",
       "      <td>2022</td>\n",
       "      <td>Michigan St.</td>\n",
       "      <td>/players/A/ArcuAJ00.htm</td>\n",
       "      <td>http://www.sports-reference.com/cfb/players/aj...</td>\n",
       "    </tr>\n",
       "    <tr>\n",
       "      <th>4700</th>\n",
       "      <td>2022</td>\n",
       "      <td>7</td>\n",
       "      <td>262</td>\n",
       "      <td>SFO</td>\n",
       "      <td>Brock Purdy</td>\n",
       "      <td>QB</td>\n",
       "      <td>22</td>\n",
       "      <td>2022</td>\n",
       "      <td>Iowa St.</td>\n",
       "      <td>/players/P/PurdBr00.htm</td>\n",
       "      <td>http://www.sports-reference.com/cfb/players/br...</td>\n",
       "    </tr>\n",
       "  </tbody>\n",
       "</table>\n",
       "<p>4593 rows × 11 columns</p>\n",
       "</div>"
      ],
      "text/plain": [
       "      Draft_Yr Rnd Pick   Tm             Player  Pos Age    To  College/Univ  \\\n",
       "0         2005   1    1  SFO         Alex Smith   QB  21  2020          Utah   \n",
       "1         2005   1    2  MIA       Ronnie Brown   RB  23  2014        Auburn   \n",
       "2         2005   1    3  CLE    Braylon Edwards   WR  22  2012      Michigan   \n",
       "3         2005   1    4  CHI      Cedric Benson   RB  22  2012         Texas   \n",
       "4         2005   1    5  TAM  Cadillac Williams   RB  23  2011        Auburn   \n",
       "...        ...  ..  ...  ...                ...  ...  ..   ...           ...   \n",
       "4696      2022   7  258  GNB       Samori Toure   WR  24  2022      Nebraska   \n",
       "4697      2022   7  259  KAN     Nazeeh Johnson  SAF  24  2022      Marshall   \n",
       "4698      2022   7  260  LAC     Zander Horvath   RB  23  2022        Purdue   \n",
       "4699      2022   7  261  LAR          AJ Arcuri   OT  25  2022  Michigan St.   \n",
       "4700      2022   7  262  SFO        Brock Purdy   QB  22  2022      Iowa St.   \n",
       "\n",
       "              Player_NFL_Link  \\\n",
       "0     /players/S/SmitAl03.htm   \n",
       "1     /players/B/BrowRo05.htm   \n",
       "2     /players/E/EdwaBr00.htm   \n",
       "3     /players/B/BensCe00.htm   \n",
       "4     /players/W/WillCa02.htm   \n",
       "...                       ...   \n",
       "4696  /players/T/TourSa00.htm   \n",
       "4697  /players/J/JohnNa01.htm   \n",
       "4698  /players/H/HorvZa00.htm   \n",
       "4699  /players/A/ArcuAJ00.htm   \n",
       "4700  /players/P/PurdBr00.htm   \n",
       "\n",
       "                                       Player_NCAA_Link  \n",
       "0     http://www.sports-reference.com/cfb/players/al...  \n",
       "1     http://www.sports-reference.com/cfb/players/ro...  \n",
       "2     http://www.sports-reference.com/cfb/players/br...  \n",
       "3     http://www.sports-reference.com/cfb/players/ce...  \n",
       "4     http://www.sports-reference.com/cfb/players/ca...  \n",
       "...                                                 ...  \n",
       "4696  http://www.sports-reference.com/cfb/players/sa...  \n",
       "4697  http://www.sports-reference.com/cfb/players/na...  \n",
       "4698  http://www.sports-reference.com/cfb/players/al...  \n",
       "4699  http://www.sports-reference.com/cfb/players/aj...  \n",
       "4700  http://www.sports-reference.com/cfb/players/br...  \n",
       "\n",
       "[4593 rows x 11 columns]"
      ]
     },
     "execution_count": 43,
     "metadata": {},
     "output_type": "execute_result"
    }
   ],
   "source": [
    "drafts0522"
   ]
  },
  {
   "cell_type": "code",
   "execution_count": 44,
   "id": "80fbc254",
   "metadata": {},
   "outputs": [
    {
     "name": "stderr",
     "output_type": "stream",
     "text": [
      "C:\\Users\\capta\\AppData\\Local\\Temp\\ipykernel_24356\\2733673970.py:1: SettingWithCopyWarning: \n",
      "A value is trying to be set on a copy of a slice from a DataFrame\n",
      "\n",
      "See the caveats in the documentation: https://pandas.pydata.org/pandas-docs/stable/user_guide/indexing.html#returning-a-view-versus-a-copy\n",
      "  drafts0522.Pos[drafts0522.Pos == 'NT'] = 'DT'\n",
      "C:\\Users\\capta\\AppData\\Local\\Temp\\ipykernel_24356\\2733673970.py:3: SettingWithCopyWarning: \n",
      "A value is trying to be set on a copy of a slice from a DataFrame\n",
      "\n",
      "See the caveats in the documentation: https://pandas.pydata.org/pandas-docs/stable/user_guide/indexing.html#returning-a-view-versus-a-copy\n",
      "  drafts0522.Pos[drafts0522.Pos == 'SAF'] = 'S'\n"
     ]
    }
   ],
   "source": [
    "# Update positions\n",
    "drafts0522.Pos[drafts0522.Pos == 'NT'] = 'DT'\n",
    "drafts0522.Pos[drafts0522.Pos == 'SAF'] = 'S'\n",
    "\n",
    "#df.Pos[(df.Pos == 'OLB')|(df.Pos == 'ILB')] = 'LB'\n",
    "#df.Pos[(df.Pos == 'T')|(df.Pos == 'OT')|(df.Pos == 'C')|(df.Pos == 'G')] = 'OL'"
   ]
  },
  {
   "cell_type": "code",
   "execution_count": 45,
   "id": "5f664da6",
   "metadata": {},
   "outputs": [],
   "source": [
    "drafts0522.columns = ['year','Round','pick','tm','player','pos','age','to','school','link','slink']"
   ]
  },
  {
   "cell_type": "markdown",
   "id": "b4a5b185",
   "metadata": {},
   "source": [
    "### Clean up player names from draft info to match with scouting report info"
   ]
  },
  {
   "cell_type": "code",
   "execution_count": 48,
   "id": "fcc81ef6",
   "metadata": {},
   "outputs": [
    {
     "name": "stderr",
     "output_type": "stream",
     "text": [
      "C:\\Users\\capta\\AppData\\Local\\Temp\\ipykernel_24356\\3557052013.py:2: SettingWithCopyWarning: \n",
      "A value is trying to be set on a copy of a slice from a DataFrame\n",
      "\n",
      "See the caveats in the documentation: https://pandas.pydata.org/pandas-docs/stable/user_guide/indexing.html#returning-a-view-versus-a-copy\n",
      "  drafts0522.player[(drafts0522.player.str.contains('II'))] = drafts0522.player[(drafts0522.player.str.contains('II'))].apply(lambda x: str(x).split(' II')[0])\n",
      "C:\\Users\\capta\\AppData\\Local\\Temp\\ipykernel_24356\\3557052013.py:3: SettingWithCopyWarning: \n",
      "A value is trying to be set on a copy of a slice from a DataFrame\n",
      "\n",
      "See the caveats in the documentation: https://pandas.pydata.org/pandas-docs/stable/user_guide/indexing.html#returning-a-view-versus-a-copy\n",
      "  drafts0522.player[(drafts0522.player.str.contains('Jr.'))] = drafts0522.player[(drafts0522.player.str.contains('Jr.'))].apply(lambda x: str(x).split(' Jr.')[0])\n"
     ]
    }
   ],
   "source": [
    "drafts0522['player'] = drafts0522.player.apply(lambda x: str(x).strip())\n",
    "drafts0522.player[(drafts0522.player.str.contains('II'))] = drafts0522.player[(drafts0522.player.str.contains('II'))].apply(lambda x: str(x).split(' II')[0])\n",
    "drafts0522.player[(drafts0522.player.str.contains('Jr.'))] = drafts0522.player[(drafts0522.player.str.contains('Jr.'))].apply(lambda x: str(x).split(' Jr.')[0])\n",
    "drafts0522['namelen'] =drafts0522['player'].str.count('\\s+')"
   ]
  },
  {
   "cell_type": "code",
   "execution_count": 49,
   "id": "06f18505",
   "metadata": {},
   "outputs": [],
   "source": [
    "# Merge scouting reports with draft info\n",
    "merged = report.merge(drafts0522,how='left',on=['player','year'])"
   ]
  },
  {
   "cell_type": "code",
   "execution_count": 51,
   "id": "00b3db57",
   "metadata": {},
   "outputs": [],
   "source": [
    "# Only select players who have a pick number (the target)\n",
    "merged_final = merged[(merged.pick_x.notna()) | (merged.pick_y.notna())]"
   ]
  },
  {
   "cell_type": "code",
   "execution_count": 52,
   "id": "22fa2fa9",
   "metadata": {},
   "outputs": [
    {
     "data": {
      "text/plain": [
       "Index(['player', 'report', 'Round_x', 'year', 'pick_x', 'pos_x', 'weight',\n",
       "       'height', 'pos_rk', 'ovr_rk', 'grade', 'school_x', 'Round_y', 'pick_y',\n",
       "       'tm', 'pos_y', 'age', 'to', 'school_y', 'link', 'slink', 'namelen'],\n",
       "      dtype='object')"
      ]
     },
     "execution_count": 52,
     "metadata": {},
     "output_type": "execute_result"
    }
   ],
   "source": [
    "merged_final.columns"
   ]
  },
  {
   "cell_type": "code",
   "execution_count": 53,
   "id": "b7ea2e76",
   "metadata": {},
   "outputs": [
    {
     "name": "stderr",
     "output_type": "stream",
     "text": [
      "C:\\Users\\capta\\AppData\\Local\\Temp\\ipykernel_24356\\1152508635.py:1: SettingWithCopyWarning: \n",
      "A value is trying to be set on a copy of a slice from a DataFrame\n",
      "\n",
      "See the caveats in the documentation: https://pandas.pydata.org/pandas-docs/stable/user_guide/indexing.html#returning-a-view-versus-a-copy\n",
      "  merged_final.drop(['tm','to','link','slink','namelen'],axis=1,inplace=True)\n"
     ]
    }
   ],
   "source": [
    "# Remove unnecessary columns\n",
    "merged_final.drop(['tm','to','link','slink','namelen'],axis=1,inplace=True)"
   ]
  },
  {
   "cell_type": "markdown",
   "id": "5a4b7563",
   "metadata": {},
   "source": [
    "### Clean up bad merges on players with the same name in the same draft"
   ]
  },
  {
   "cell_type": "code",
   "execution_count": 54,
   "id": "ccce4f56",
   "metadata": {},
   "outputs": [
    {
     "data": {
      "text/html": [
       "<div>\n",
       "<style scoped>\n",
       "    .dataframe tbody tr th:only-of-type {\n",
       "        vertical-align: middle;\n",
       "    }\n",
       "\n",
       "    .dataframe tbody tr th {\n",
       "        vertical-align: top;\n",
       "    }\n",
       "\n",
       "    .dataframe thead th {\n",
       "        text-align: right;\n",
       "    }\n",
       "</style>\n",
       "<table border=\"1\" class=\"dataframe\">\n",
       "  <thead>\n",
       "    <tr style=\"text-align: right;\">\n",
       "      <th></th>\n",
       "      <th>player</th>\n",
       "      <th>report</th>\n",
       "      <th>Round_x</th>\n",
       "      <th>year</th>\n",
       "      <th>pick_x</th>\n",
       "      <th>pos_x</th>\n",
       "      <th>weight</th>\n",
       "      <th>height</th>\n",
       "      <th>pos_rk</th>\n",
       "      <th>ovr_rk</th>\n",
       "      <th>grade</th>\n",
       "      <th>school_x</th>\n",
       "      <th>Round_y</th>\n",
       "      <th>pick_y</th>\n",
       "      <th>pos_y</th>\n",
       "      <th>age</th>\n",
       "      <th>school_y</th>\n",
       "    </tr>\n",
       "  </thead>\n",
       "  <tbody>\n",
       "    <tr>\n",
       "      <th>0</th>\n",
       "      <td>Alex Smith</td>\n",
       "      <td>Nephew of Michigan State head coach John L. Sm...</td>\n",
       "      <td>1.0</td>\n",
       "      <td>2005.0</td>\n",
       "      <td>1.0</td>\n",
       "      <td>QB</td>\n",
       "      <td>217.0</td>\n",
       "      <td>76.125</td>\n",
       "      <td>2.0</td>\n",
       "      <td>3.0</td>\n",
       "      <td>98.0</td>\n",
       "      <td>Utah</td>\n",
       "      <td>1</td>\n",
       "      <td>1</td>\n",
       "      <td>QB</td>\n",
       "      <td>21</td>\n",
       "      <td>Utah</td>\n",
       "    </tr>\n",
       "    <tr>\n",
       "      <th>1</th>\n",
       "      <td>Alex Smith</td>\n",
       "      <td>Nephew of Michigan State head coach John L. Sm...</td>\n",
       "      <td>1.0</td>\n",
       "      <td>2005.0</td>\n",
       "      <td>1.0</td>\n",
       "      <td>QB</td>\n",
       "      <td>217.0</td>\n",
       "      <td>76.125</td>\n",
       "      <td>2.0</td>\n",
       "      <td>3.0</td>\n",
       "      <td>98.0</td>\n",
       "      <td>Utah</td>\n",
       "      <td>3</td>\n",
       "      <td>71</td>\n",
       "      <td>TE</td>\n",
       "      <td>23</td>\n",
       "      <td>Stanford</td>\n",
       "    </tr>\n",
       "    <tr>\n",
       "      <th>70</th>\n",
       "      <td>Alex Smith</td>\n",
       "      <td>Smith redshirted in 2000, played as a backup i...</td>\n",
       "      <td>3.0</td>\n",
       "      <td>2005.0</td>\n",
       "      <td>71.0</td>\n",
       "      <td>TE</td>\n",
       "      <td>258.0</td>\n",
       "      <td>76.125</td>\n",
       "      <td>2.0</td>\n",
       "      <td>60.0</td>\n",
       "      <td>83.0</td>\n",
       "      <td>Stanford</td>\n",
       "      <td>1</td>\n",
       "      <td>1</td>\n",
       "      <td>QB</td>\n",
       "      <td>21</td>\n",
       "      <td>Utah</td>\n",
       "    </tr>\n",
       "    <tr>\n",
       "      <th>71</th>\n",
       "      <td>Alex Smith</td>\n",
       "      <td>Smith redshirted in 2000, played as a backup i...</td>\n",
       "      <td>3.0</td>\n",
       "      <td>2005.0</td>\n",
       "      <td>71.0</td>\n",
       "      <td>TE</td>\n",
       "      <td>258.0</td>\n",
       "      <td>76.125</td>\n",
       "      <td>2.0</td>\n",
       "      <td>60.0</td>\n",
       "      <td>83.0</td>\n",
       "      <td>Stanford</td>\n",
       "      <td>3</td>\n",
       "      <td>71</td>\n",
       "      <td>TE</td>\n",
       "      <td>23</td>\n",
       "      <td>Stanford</td>\n",
       "    </tr>\n",
       "  </tbody>\n",
       "</table>\n",
       "</div>"
      ],
      "text/plain": [
       "        player                                             report  Round_x  \\\n",
       "0   Alex Smith  Nephew of Michigan State head coach John L. Sm...      1.0   \n",
       "1   Alex Smith  Nephew of Michigan State head coach John L. Sm...      1.0   \n",
       "70  Alex Smith  Smith redshirted in 2000, played as a backup i...      3.0   \n",
       "71  Alex Smith  Smith redshirted in 2000, played as a backup i...      3.0   \n",
       "\n",
       "      year  pick_x pos_x  weight  height  pos_rk  ovr_rk  grade  school_x  \\\n",
       "0   2005.0     1.0    QB   217.0  76.125     2.0     3.0   98.0      Utah   \n",
       "1   2005.0     1.0    QB   217.0  76.125     2.0     3.0   98.0      Utah   \n",
       "70  2005.0    71.0    TE   258.0  76.125     2.0    60.0   83.0  Stanford   \n",
       "71  2005.0    71.0    TE   258.0  76.125     2.0    60.0   83.0  Stanford   \n",
       "\n",
       "   Round_y pick_y pos_y age  school_y  \n",
       "0        1      1    QB  21      Utah  \n",
       "1        3     71    TE  23  Stanford  \n",
       "70       1      1    QB  21      Utah  \n",
       "71       3     71    TE  23  Stanford  "
      ]
     },
     "execution_count": 54,
     "metadata": {},
     "output_type": "execute_result"
    }
   ],
   "source": [
    "merged_final[merged_final.player == 'Alex Smith']"
   ]
  },
  {
   "cell_type": "code",
   "execution_count": 55,
   "id": "40a88ba2",
   "metadata": {},
   "outputs": [
    {
     "name": "stderr",
     "output_type": "stream",
     "text": [
      "C:\\Users\\capta\\AppData\\Local\\Temp\\ipykernel_24356\\2043428584.py:1: SettingWithCopyWarning: \n",
      "A value is trying to be set on a copy of a slice from a DataFrame\n",
      "\n",
      "See the caveats in the documentation: https://pandas.pydata.org/pandas-docs/stable/user_guide/indexing.html#returning-a-view-versus-a-copy\n",
      "  merged_final.drop(index=[1,70],inplace=True)\n"
     ]
    }
   ],
   "source": [
    "merged_final.drop(index=[1,70],inplace=True)"
   ]
  },
  {
   "cell_type": "code",
   "execution_count": 58,
   "id": "0eaba6ae",
   "metadata": {},
   "outputs": [
    {
     "data": {
      "text/plain": [
       "Index(['player', 'report', 'Round_x', 'year', 'pick_x', 'pos_x', 'weight',\n",
       "       'height', 'pos_rk', 'ovr_rk', 'grade', 'school_x', 'Round_y', 'pick_y',\n",
       "       'pos_y', 'age', 'school_y'],\n",
       "      dtype='object')"
      ]
     },
     "execution_count": 58,
     "metadata": {},
     "output_type": "execute_result"
    }
   ],
   "source": [
    "merged_final.columns"
   ]
  },
  {
   "cell_type": "code",
   "execution_count": 60,
   "id": "ae1ad86a",
   "metadata": {},
   "outputs": [
    {
     "name": "stderr",
     "output_type": "stream",
     "text": [
      "C:\\Users\\capta\\AppData\\Local\\Temp\\ipykernel_24356\\516530601.py:1: SettingWithCopyWarning: \n",
      "A value is trying to be set on a copy of a slice from a DataFrame.\n",
      "Try using .loc[row_indexer,col_indexer] = value instead\n",
      "\n",
      "See the caveats in the documentation: https://pandas.pydata.org/pandas-docs/stable/user_guide/indexing.html#returning-a-view-versus-a-copy\n",
      "  merged_final['Round'] = None\n",
      "C:\\Users\\capta\\AppData\\Local\\Temp\\ipykernel_24356\\516530601.py:2: SettingWithCopyWarning: \n",
      "A value is trying to be set on a copy of a slice from a DataFrame.\n",
      "Try using .loc[row_indexer,col_indexer] = value instead\n",
      "\n",
      "See the caveats in the documentation: https://pandas.pydata.org/pandas-docs/stable/user_guide/indexing.html#returning-a-view-versus-a-copy\n",
      "  merged_final['Pick'] = None\n"
     ]
    }
   ],
   "source": [
    "# Create new columns to bring in the all the round and pick info\n",
    "merged_final['Round'] = None\n",
    "merged_final['Pick'] = None"
   ]
  },
  {
   "cell_type": "code",
   "execution_count": 67,
   "id": "7dc3b83c",
   "metadata": {},
   "outputs": [
    {
     "name": "stderr",
     "output_type": "stream",
     "text": [
      "C:\\Users\\capta\\AppData\\Local\\Temp\\ipykernel_24356\\2403453810.py:1: SettingWithCopyWarning: \n",
      "A value is trying to be set on a copy of a slice from a DataFrame.\n",
      "Try using .loc[row_indexer,col_indexer] = value instead\n",
      "\n",
      "See the caveats in the documentation: https://pandas.pydata.org/pandas-docs/stable/user_guide/indexing.html#returning-a-view-versus-a-copy\n",
      "  merged_final[['Round_y','pick_y']] = merged_final[['Round_y','pick_y']].astype('Int64')\n"
     ]
    }
   ],
   "source": [
    "merged_final[['Round_y','pick_y']] = merged_final[['Round_y','pick_y']].astype('Int64')"
   ]
  },
  {
   "cell_type": "code",
   "execution_count": 113,
   "id": "115aa786",
   "metadata": {},
   "outputs": [
    {
     "data": {
      "text/html": [
       "<div>\n",
       "<style scoped>\n",
       "    .dataframe tbody tr th:only-of-type {\n",
       "        vertical-align: middle;\n",
       "    }\n",
       "\n",
       "    .dataframe tbody tr th {\n",
       "        vertical-align: top;\n",
       "    }\n",
       "\n",
       "    .dataframe thead th {\n",
       "        text-align: right;\n",
       "    }\n",
       "</style>\n",
       "<table border=\"1\" class=\"dataframe\">\n",
       "  <thead>\n",
       "    <tr style=\"text-align: right;\">\n",
       "      <th></th>\n",
       "      <th>player</th>\n",
       "      <th>report</th>\n",
       "      <th>Round_x</th>\n",
       "      <th>year</th>\n",
       "      <th>pick_x</th>\n",
       "      <th>pos_x</th>\n",
       "      <th>weight</th>\n",
       "      <th>height</th>\n",
       "      <th>pos_rk</th>\n",
       "      <th>ovr_rk</th>\n",
       "      <th>grade</th>\n",
       "      <th>school_x</th>\n",
       "      <th>Round_y</th>\n",
       "      <th>pick_y</th>\n",
       "      <th>pos_y</th>\n",
       "      <th>age</th>\n",
       "      <th>school_y</th>\n",
       "      <th>Round</th>\n",
       "      <th>Pick</th>\n",
       "    </tr>\n",
       "  </thead>\n",
       "  <tbody>\n",
       "    <tr>\n",
       "      <th>5261</th>\n",
       "      <td>Michael Carter</td>\n",
       "      <td>Carter is an undersized scat-back prospect wit...</td>\n",
       "      <td>4.0</td>\n",
       "      <td>2021.0</td>\n",
       "      <td>107.0</td>\n",
       "      <td>RB</td>\n",
       "      <td>201.0</td>\n",
       "      <td>67.875</td>\n",
       "      <td>5.0</td>\n",
       "      <td>83.0</td>\n",
       "      <td>74.0</td>\n",
       "      <td>North Carolina</td>\n",
       "      <td>4</td>\n",
       "      <td>107</td>\n",
       "      <td>RB</td>\n",
       "      <td>22</td>\n",
       "      <td>North Carolina</td>\n",
       "      <td>None</td>\n",
       "      <td>None</td>\n",
       "    </tr>\n",
       "    <tr>\n",
       "      <th>5262</th>\n",
       "      <td>Michael Carter</td>\n",
       "      <td>None</td>\n",
       "      <td>NaN</td>\n",
       "      <td>2021.0</td>\n",
       "      <td>NaN</td>\n",
       "      <td>None</td>\n",
       "      <td>NaN</td>\n",
       "      <td>NaN</td>\n",
       "      <td>NaN</td>\n",
       "      <td>NaN</td>\n",
       "      <td>NaN</td>\n",
       "      <td>None</td>\n",
       "      <td>5</td>\n",
       "      <td>154</td>\n",
       "      <td>S</td>\n",
       "      <td>22</td>\n",
       "      <td>Duke</td>\n",
       "      <td>None</td>\n",
       "      <td>None</td>\n",
       "    </tr>\n",
       "  </tbody>\n",
       "</table>\n",
       "</div>"
      ],
      "text/plain": [
       "              player                                             report  \\\n",
       "5261  Michael Carter  Carter is an undersized scat-back prospect wit...   \n",
       "5262  Michael Carter                                               None   \n",
       "\n",
       "      Round_x    year  pick_x pos_x  weight  height  pos_rk  ovr_rk  grade  \\\n",
       "5261      4.0  2021.0   107.0    RB   201.0  67.875     5.0    83.0   74.0   \n",
       "5262      NaN  2021.0     NaN  None     NaN     NaN     NaN     NaN    NaN   \n",
       "\n",
       "            school_x  Round_y  pick_y pos_y age        school_y Round  Pick  \n",
       "5261  North Carolina        4     107    RB  22  North Carolina  None  None  \n",
       "5262            None        5     154     S  22            Duke  None  None  "
      ]
     },
     "execution_count": 113,
     "metadata": {},
     "output_type": "execute_result"
    }
   ],
   "source": [
    "merged_final[merged_final.player == 'Michael Carter']"
   ]
  },
  {
   "cell_type": "code",
   "execution_count": 84,
   "id": "27dfc5b9",
   "metadata": {},
   "outputs": [],
   "source": [
    "merged_final.loc[[201],['report','weight','height','pos_rk','ovr_rk','grade']] = None\n",
    "merged_final.loc[[200],['Round_x','pick_x','pos_x']] = None"
   ]
  },
  {
   "cell_type": "code",
   "execution_count": 92,
   "id": "207cddfd",
   "metadata": {},
   "outputs": [],
   "source": [
    "merged_final.loc[[2243],['report','weight','height','pos_rk','ovr_rk','grade','Round_x','pick_x','pos_x']] = None"
   ]
  },
  {
   "cell_type": "code",
   "execution_count": 102,
   "id": "065dc88d",
   "metadata": {},
   "outputs": [],
   "source": [
    "merged_final.loc[[3531],['Round_y','pick_y','school_y','age']] = np.nan"
   ]
  },
  {
   "cell_type": "code",
   "execution_count": 108,
   "id": "c828d984",
   "metadata": {},
   "outputs": [],
   "source": [
    "merged_final.loc[[4507],['report','weight','height','pos_rk','ovr_rk','grade','Round_x','pick_x','pos_x','school_x']] = None"
   ]
  },
  {
   "cell_type": "code",
   "execution_count": 112,
   "id": "c0582c86",
   "metadata": {},
   "outputs": [],
   "source": [
    "merged_final.loc[[5262],['report','weight','height','pos_rk','ovr_rk','grade','Round_x','pick_x','pos_x','school_x']] = None"
   ]
  },
  {
   "cell_type": "code",
   "execution_count": 88,
   "id": "08d38c62",
   "metadata": {},
   "outputs": [
    {
     "name": "stderr",
     "output_type": "stream",
     "text": [
      "C:\\Users\\capta\\AppData\\Local\\Temp\\ipykernel_24356\\2619285946.py:1: SettingWithCopyWarning: \n",
      "A value is trying to be set on a copy of a slice from a DataFrame\n",
      "\n",
      "See the caveats in the documentation: https://pandas.pydata.org/pandas-docs/stable/user_guide/indexing.html#returning-a-view-versus-a-copy\n",
      "  merged_final.drop(index=[15,16],inplace=True)\n"
     ]
    }
   ],
   "source": [
    "merged_final.drop(index=[15,16],inplace=True)"
   ]
  },
  {
   "cell_type": "code",
   "execution_count": 114,
   "id": "189a6e88",
   "metadata": {},
   "outputs": [
    {
     "data": {
      "text/html": [
       "<div>\n",
       "<style scoped>\n",
       "    .dataframe tbody tr th:only-of-type {\n",
       "        vertical-align: middle;\n",
       "    }\n",
       "\n",
       "    .dataframe tbody tr th {\n",
       "        vertical-align: top;\n",
       "    }\n",
       "\n",
       "    .dataframe thead th {\n",
       "        text-align: right;\n",
       "    }\n",
       "</style>\n",
       "<table border=\"1\" class=\"dataframe\">\n",
       "  <thead>\n",
       "    <tr style=\"text-align: right;\">\n",
       "      <th></th>\n",
       "      <th>player</th>\n",
       "      <th>report</th>\n",
       "      <th>Round_x</th>\n",
       "      <th>year</th>\n",
       "      <th>pick_x</th>\n",
       "      <th>pos_x</th>\n",
       "      <th>weight</th>\n",
       "      <th>height</th>\n",
       "      <th>pos_rk</th>\n",
       "      <th>ovr_rk</th>\n",
       "      <th>grade</th>\n",
       "      <th>school_x</th>\n",
       "      <th>Round_y</th>\n",
       "      <th>pick_y</th>\n",
       "      <th>pos_y</th>\n",
       "      <th>age</th>\n",
       "      <th>school_y</th>\n",
       "      <th>Round</th>\n",
       "      <th>Pick</th>\n",
       "    </tr>\n",
       "  </thead>\n",
       "  <tbody>\n",
       "  </tbody>\n",
       "</table>\n",
       "</div>"
      ],
      "text/plain": [
       "Empty DataFrame\n",
       "Columns: [player, report, Round_x, year, pick_x, pos_x, weight, height, pos_rk, ovr_rk, grade, school_x, Round_y, pick_y, pos_y, age, school_y, Round, Pick]\n",
       "Index: []"
      ]
     },
     "execution_count": 114,
     "metadata": {},
     "output_type": "execute_result"
    }
   ],
   "source": [
    "merged_final[(merged_final.Round_x != merged_final.Round_y) & (merged_final.Round_x.notna())]"
   ]
  },
  {
   "cell_type": "code",
   "execution_count": 130,
   "id": "f74d378c",
   "metadata": {},
   "outputs": [
    {
     "name": "stderr",
     "output_type": "stream",
     "text": [
      "C:\\Users\\capta\\AppData\\Local\\Temp\\ipykernel_24356\\377890902.py:1: SettingWithCopyWarning: \n",
      "A value is trying to be set on a copy of a slice from a DataFrame\n",
      "\n",
      "See the caveats in the documentation: https://pandas.pydata.org/pandas-docs/stable/user_guide/indexing.html#returning-a-view-versus-a-copy\n",
      "  merged_final.Round[merged_final.Round_x.notna()] = merged_final.Round_x[merged_final.Round_x.notna()]\n",
      "C:\\Users\\capta\\AppData\\Local\\Temp\\ipykernel_24356\\377890902.py:1: SettingWithCopyWarning: \n",
      "A value is trying to be set on a copy of a slice from a DataFrame\n",
      "\n",
      "See the caveats in the documentation: https://pandas.pydata.org/pandas-docs/stable/user_guide/indexing.html#returning-a-view-versus-a-copy\n",
      "  merged_final.Round[merged_final.Round_x.notna()] = merged_final.Round_x[merged_final.Round_x.notna()]\n",
      "C:\\Users\\capta\\AppData\\Local\\Temp\\ipykernel_24356\\377890902.py:2: SettingWithCopyWarning: \n",
      "A value is trying to be set on a copy of a slice from a DataFrame\n",
      "\n",
      "See the caveats in the documentation: https://pandas.pydata.org/pandas-docs/stable/user_guide/indexing.html#returning-a-view-versus-a-copy\n",
      "  merged_final.Pick[merged_final.pick_x.notna()] = merged_final.pick_x[merged_final.pick_x.notna()]\n",
      "C:\\Users\\capta\\AppData\\Local\\Temp\\ipykernel_24356\\377890902.py:2: SettingWithCopyWarning: \n",
      "A value is trying to be set on a copy of a slice from a DataFrame\n",
      "\n",
      "See the caveats in the documentation: https://pandas.pydata.org/pandas-docs/stable/user_guide/indexing.html#returning-a-view-versus-a-copy\n",
      "  merged_final.Pick[merged_final.pick_x.notna()] = merged_final.pick_x[merged_final.pick_x.notna()]\n",
      "C:\\Users\\capta\\AppData\\Local\\Temp\\ipykernel_24356\\377890902.py:3: SettingWithCopyWarning: \n",
      "A value is trying to be set on a copy of a slice from a DataFrame\n",
      "\n",
      "See the caveats in the documentation: https://pandas.pydata.org/pandas-docs/stable/user_guide/indexing.html#returning-a-view-versus-a-copy\n",
      "  merged_final.Round[merged_final.Round_y.notna()] = merged_final.Round_y[merged_final.Round_y.notna()]\n",
      "C:\\Users\\capta\\AppData\\Local\\Temp\\ipykernel_24356\\377890902.py:3: SettingWithCopyWarning: \n",
      "A value is trying to be set on a copy of a slice from a DataFrame\n",
      "\n",
      "See the caveats in the documentation: https://pandas.pydata.org/pandas-docs/stable/user_guide/indexing.html#returning-a-view-versus-a-copy\n",
      "  merged_final.Round[merged_final.Round_y.notna()] = merged_final.Round_y[merged_final.Round_y.notna()]\n",
      "C:\\Users\\capta\\AppData\\Local\\Temp\\ipykernel_24356\\377890902.py:4: SettingWithCopyWarning: \n",
      "A value is trying to be set on a copy of a slice from a DataFrame\n",
      "\n",
      "See the caveats in the documentation: https://pandas.pydata.org/pandas-docs/stable/user_guide/indexing.html#returning-a-view-versus-a-copy\n",
      "  merged_final.Pick[merged_final.pick_y.notna()] = merged_final.pick_y[merged_final.pick_y.notna()]\n",
      "C:\\Users\\capta\\AppData\\Local\\Temp\\ipykernel_24356\\377890902.py:4: SettingWithCopyWarning: \n",
      "A value is trying to be set on a copy of a slice from a DataFrame\n",
      "\n",
      "See the caveats in the documentation: https://pandas.pydata.org/pandas-docs/stable/user_guide/indexing.html#returning-a-view-versus-a-copy\n",
      "  merged_final.Pick[merged_final.pick_y.notna()] = merged_final.pick_y[merged_final.pick_y.notna()]\n"
     ]
    }
   ],
   "source": [
    "# Set final Round and pick\n",
    "merged_final.Round[merged_final.Round_x.notna()] = merged_final.Round_x[merged_final.Round_x.notna()]\n",
    "merged_final.Pick[merged_final.pick_x.notna()] = merged_final.pick_x[merged_final.pick_x.notna()]\n",
    "merged_final.Round[merged_final.Round_y.notna()] = merged_final.Round_y[merged_final.Round_y.notna()]\n",
    "merged_final.Pick[merged_final.pick_y.notna()] = merged_final.pick_y[merged_final.pick_y.notna()]"
   ]
  },
  {
   "cell_type": "code",
   "execution_count": 134,
   "id": "6e831f60",
   "metadata": {},
   "outputs": [
    {
     "data": {
      "text/html": [
       "<div>\n",
       "<style scoped>\n",
       "    .dataframe tbody tr th:only-of-type {\n",
       "        vertical-align: middle;\n",
       "    }\n",
       "\n",
       "    .dataframe tbody tr th {\n",
       "        vertical-align: top;\n",
       "    }\n",
       "\n",
       "    .dataframe thead th {\n",
       "        text-align: right;\n",
       "    }\n",
       "</style>\n",
       "<table border=\"1\" class=\"dataframe\">\n",
       "  <thead>\n",
       "    <tr style=\"text-align: right;\">\n",
       "      <th></th>\n",
       "      <th>player</th>\n",
       "      <th>report</th>\n",
       "      <th>Round_x</th>\n",
       "      <th>year</th>\n",
       "      <th>pick_x</th>\n",
       "      <th>pos_x</th>\n",
       "      <th>weight</th>\n",
       "      <th>height</th>\n",
       "      <th>pos_rk</th>\n",
       "      <th>ovr_rk</th>\n",
       "      <th>grade</th>\n",
       "      <th>school_x</th>\n",
       "      <th>Round_y</th>\n",
       "      <th>pick_y</th>\n",
       "      <th>pos_y</th>\n",
       "      <th>age</th>\n",
       "      <th>school_y</th>\n",
       "      <th>Round</th>\n",
       "      <th>Pick</th>\n",
       "    </tr>\n",
       "  </thead>\n",
       "  <tbody>\n",
       "    <tr>\n",
       "      <th>124</th>\n",
       "      <td>Todd Herremans</td>\n",
       "      <td>None</td>\n",
       "      <td>4.0</td>\n",
       "      <td>2005.0</td>\n",
       "      <td>126.0</td>\n",
       "      <td>OT</td>\n",
       "      <td>303.0</td>\n",
       "      <td>78.125</td>\n",
       "      <td>41.0</td>\n",
       "      <td>NaN</td>\n",
       "      <td>30.0</td>\n",
       "      <td>Saginaw Valley</td>\n",
       "      <td>4</td>\n",
       "      <td>126</td>\n",
       "      <td>T</td>\n",
       "      <td>22</td>\n",
       "      <td>Saginaw Valley St.</td>\n",
       "      <td>4</td>\n",
       "      <td>126</td>\n",
       "    </tr>\n",
       "    <tr>\n",
       "      <th>133</th>\n",
       "      <td>Matt Giordano</td>\n",
       "      <td>None</td>\n",
       "      <td>4.0</td>\n",
       "      <td>2005.0</td>\n",
       "      <td>135.0</td>\n",
       "      <td>DB</td>\n",
       "      <td>195.0</td>\n",
       "      <td>70.625</td>\n",
       "      <td>45.0</td>\n",
       "      <td>NaN</td>\n",
       "      <td>30.0</td>\n",
       "      <td>California</td>\n",
       "      <td>4</td>\n",
       "      <td>135</td>\n",
       "      <td>DB</td>\n",
       "      <td>22</td>\n",
       "      <td>California</td>\n",
       "      <td>4</td>\n",
       "      <td>135</td>\n",
       "    </tr>\n",
       "    <tr>\n",
       "      <th>155</th>\n",
       "      <td>Jeb Huckeba</td>\n",
       "      <td>None</td>\n",
       "      <td>5.0</td>\n",
       "      <td>2005.0</td>\n",
       "      <td>159.0</td>\n",
       "      <td>DE</td>\n",
       "      <td>247.0</td>\n",
       "      <td>76.375</td>\n",
       "      <td>37.0</td>\n",
       "      <td>NaN</td>\n",
       "      <td>30.0</td>\n",
       "      <td>Arkansas</td>\n",
       "      <td>5</td>\n",
       "      <td>159</td>\n",
       "      <td>LB</td>\n",
       "      <td></td>\n",
       "      <td>Arkansas</td>\n",
       "      <td>5</td>\n",
       "      <td>159</td>\n",
       "    </tr>\n",
       "    <tr>\n",
       "      <th>159</th>\n",
       "      <td>Frank Omiyale</td>\n",
       "      <td>None</td>\n",
       "      <td>5.0</td>\n",
       "      <td>2005.0</td>\n",
       "      <td>163.0</td>\n",
       "      <td>OT</td>\n",
       "      <td>310.0</td>\n",
       "      <td>76.250</td>\n",
       "      <td>32.0</td>\n",
       "      <td>NaN</td>\n",
       "      <td>30.0</td>\n",
       "      <td>Tennessee Tech</td>\n",
       "      <td>5</td>\n",
       "      <td>163</td>\n",
       "      <td>T</td>\n",
       "      <td>22</td>\n",
       "      <td>Tennessee Tech</td>\n",
       "      <td>5</td>\n",
       "      <td>163</td>\n",
       "    </tr>\n",
       "    <tr>\n",
       "      <th>163</th>\n",
       "      <td>Michael Hawkins</td>\n",
       "      <td>None</td>\n",
       "      <td>5.0</td>\n",
       "      <td>2005.0</td>\n",
       "      <td>167.0</td>\n",
       "      <td>DB</td>\n",
       "      <td>0.0</td>\n",
       "      <td>0.000</td>\n",
       "      <td>NaN</td>\n",
       "      <td>NaN</td>\n",
       "      <td>NaN</td>\n",
       "      <td>Oklahoma</td>\n",
       "      <td>5</td>\n",
       "      <td>167</td>\n",
       "      <td>DB</td>\n",
       "      <td>22</td>\n",
       "      <td>Oklahoma</td>\n",
       "      <td>5</td>\n",
       "      <td>167</td>\n",
       "    </tr>\n",
       "    <tr>\n",
       "      <th>...</th>\n",
       "      <td>...</td>\n",
       "      <td>...</td>\n",
       "      <td>...</td>\n",
       "      <td>...</td>\n",
       "      <td>...</td>\n",
       "      <td>...</td>\n",
       "      <td>...</td>\n",
       "      <td>...</td>\n",
       "      <td>...</td>\n",
       "      <td>...</td>\n",
       "      <td>...</td>\n",
       "      <td>...</td>\n",
       "      <td>...</td>\n",
       "      <td>...</td>\n",
       "      <td>...</td>\n",
       "      <td>...</td>\n",
       "      <td>...</td>\n",
       "      <td>...</td>\n",
       "      <td>...</td>\n",
       "    </tr>\n",
       "    <tr>\n",
       "      <th>3270</th>\n",
       "      <td>A.J. Derby</td>\n",
       "      <td>None</td>\n",
       "      <td>NaN</td>\n",
       "      <td>2015.0</td>\n",
       "      <td>NaN</td>\n",
       "      <td>TE</td>\n",
       "      <td>255.0</td>\n",
       "      <td>75.750</td>\n",
       "      <td>16.0</td>\n",
       "      <td>263.0</td>\n",
       "      <td>38.0</td>\n",
       "      <td>Arkansas</td>\n",
       "      <td>6</td>\n",
       "      <td>202</td>\n",
       "      <td>TE</td>\n",
       "      <td>23</td>\n",
       "      <td>Arkansas</td>\n",
       "      <td>6</td>\n",
       "      <td>202</td>\n",
       "    </tr>\n",
       "    <tr>\n",
       "      <th>3325</th>\n",
       "      <td>Joey Iosefa</td>\n",
       "      <td>None</td>\n",
       "      <td>7.0</td>\n",
       "      <td>2015.0</td>\n",
       "      <td>231.0</td>\n",
       "      <td>FB</td>\n",
       "      <td>247.0</td>\n",
       "      <td>71.750</td>\n",
       "      <td>4.0</td>\n",
       "      <td>334.0</td>\n",
       "      <td>31.0</td>\n",
       "      <td>Hawai'i</td>\n",
       "      <td>7</td>\n",
       "      <td>231</td>\n",
       "      <td>FB</td>\n",
       "      <td>24</td>\n",
       "      <td>Hawaii</td>\n",
       "      <td>7</td>\n",
       "      <td>231</td>\n",
       "    </tr>\n",
       "    <tr>\n",
       "      <th>4507</th>\n",
       "      <td>David Long</td>\n",
       "      <td>None</td>\n",
       "      <td>NaN</td>\n",
       "      <td>2019.0</td>\n",
       "      <td>NaN</td>\n",
       "      <td>None</td>\n",
       "      <td>NaN</td>\n",
       "      <td>NaN</td>\n",
       "      <td>NaN</td>\n",
       "      <td>NaN</td>\n",
       "      <td>NaN</td>\n",
       "      <td>None</td>\n",
       "      <td>6</td>\n",
       "      <td>188</td>\n",
       "      <td>LB</td>\n",
       "      <td>22</td>\n",
       "      <td>West Virginia</td>\n",
       "      <td>6</td>\n",
       "      <td>188</td>\n",
       "    </tr>\n",
       "    <tr>\n",
       "      <th>4627</th>\n",
       "      <td>Gerri Green</td>\n",
       "      <td>None</td>\n",
       "      <td>6.0</td>\n",
       "      <td>2019.0</td>\n",
       "      <td>199.0</td>\n",
       "      <td>OLB</td>\n",
       "      <td>252.0</td>\n",
       "      <td>76.000</td>\n",
       "      <td>29.0</td>\n",
       "      <td>336.0</td>\n",
       "      <td>34.0</td>\n",
       "      <td>Mississippi State</td>\n",
       "      <td>6</td>\n",
       "      <td>199</td>\n",
       "      <td>DE</td>\n",
       "      <td>23</td>\n",
       "      <td>Mississippi St.</td>\n",
       "      <td>6</td>\n",
       "      <td>199</td>\n",
       "    </tr>\n",
       "    <tr>\n",
       "      <th>5262</th>\n",
       "      <td>Michael Carter</td>\n",
       "      <td>None</td>\n",
       "      <td>NaN</td>\n",
       "      <td>2021.0</td>\n",
       "      <td>NaN</td>\n",
       "      <td>None</td>\n",
       "      <td>NaN</td>\n",
       "      <td>NaN</td>\n",
       "      <td>NaN</td>\n",
       "      <td>NaN</td>\n",
       "      <td>NaN</td>\n",
       "      <td>None</td>\n",
       "      <td>5</td>\n",
       "      <td>154</td>\n",
       "      <td>S</td>\n",
       "      <td>22</td>\n",
       "      <td>Duke</td>\n",
       "      <td>5</td>\n",
       "      <td>154</td>\n",
       "    </tr>\n",
       "  </tbody>\n",
       "</table>\n",
       "<p>132 rows × 19 columns</p>\n",
       "</div>"
      ],
      "text/plain": [
       "               player report  Round_x    year  pick_x pos_x  weight  height  \\\n",
       "124    Todd Herremans   None      4.0  2005.0   126.0    OT   303.0  78.125   \n",
       "133     Matt Giordano   None      4.0  2005.0   135.0    DB   195.0  70.625   \n",
       "155       Jeb Huckeba   None      5.0  2005.0   159.0    DE   247.0  76.375   \n",
       "159     Frank Omiyale   None      5.0  2005.0   163.0    OT   310.0  76.250   \n",
       "163   Michael Hawkins   None      5.0  2005.0   167.0    DB     0.0   0.000   \n",
       "...               ...    ...      ...     ...     ...   ...     ...     ...   \n",
       "3270       A.J. Derby   None      NaN  2015.0     NaN    TE   255.0  75.750   \n",
       "3325      Joey Iosefa   None      7.0  2015.0   231.0    FB   247.0  71.750   \n",
       "4507       David Long   None      NaN  2019.0     NaN  None     NaN     NaN   \n",
       "4627      Gerri Green   None      6.0  2019.0   199.0   OLB   252.0  76.000   \n",
       "5262   Michael Carter   None      NaN  2021.0     NaN  None     NaN     NaN   \n",
       "\n",
       "      pos_rk  ovr_rk  grade           school_x  Round_y  pick_y pos_y age  \\\n",
       "124     41.0     NaN   30.0     Saginaw Valley        4     126     T  22   \n",
       "133     45.0     NaN   30.0         California        4     135    DB  22   \n",
       "155     37.0     NaN   30.0           Arkansas        5     159    LB       \n",
       "159     32.0     NaN   30.0     Tennessee Tech        5     163     T  22   \n",
       "163      NaN     NaN    NaN           Oklahoma        5     167    DB  22   \n",
       "...      ...     ...    ...                ...      ...     ...   ...  ..   \n",
       "3270    16.0   263.0   38.0           Arkansas        6     202    TE  23   \n",
       "3325     4.0   334.0   31.0            Hawai'i        7     231    FB  24   \n",
       "4507     NaN     NaN    NaN               None        6     188    LB  22   \n",
       "4627    29.0   336.0   34.0  Mississippi State        6     199    DE  23   \n",
       "5262     NaN     NaN    NaN               None        5     154     S  22   \n",
       "\n",
       "                school_y Round Pick  \n",
       "124   Saginaw Valley St.     4  126  \n",
       "133           California     4  135  \n",
       "155             Arkansas     5  159  \n",
       "159       Tennessee Tech     5  163  \n",
       "163             Oklahoma     5  167  \n",
       "...                  ...   ...  ...  \n",
       "3270            Arkansas     6  202  \n",
       "3325              Hawaii     7  231  \n",
       "4507       West Virginia     6  188  \n",
       "4627     Mississippi St.     6  199  \n",
       "5262                Duke     5  154  \n",
       "\n",
       "[132 rows x 19 columns]"
      ]
     },
     "execution_count": 134,
     "metadata": {},
     "output_type": "execute_result"
    }
   ],
   "source": [
    "merged_final[merged_final.report.isna()]"
   ]
  },
  {
   "cell_type": "code",
   "execution_count": 136,
   "id": "71a28d4b",
   "metadata": {},
   "outputs": [],
   "source": [
    "# Remove unnecessary columns for the final dataframe\n",
    "final = merged_final.drop(['Round_x','pick_x','school_x','Round_y','pick_y','school_y'],axis=1)"
   ]
  },
  {
   "cell_type": "code",
   "execution_count": 139,
   "id": "10ee002f",
   "metadata": {},
   "outputs": [],
   "source": [
    "final[['Round','Pick']] = final[['Round','Pick']].astype('Int64')"
   ]
  },
  {
   "cell_type": "code",
   "execution_count": 141,
   "id": "86aa8be7",
   "metadata": {},
   "outputs": [
    {
     "data": {
      "text/html": [
       "<div>\n",
       "<style scoped>\n",
       "    .dataframe tbody tr th:only-of-type {\n",
       "        vertical-align: middle;\n",
       "    }\n",
       "\n",
       "    .dataframe tbody tr th {\n",
       "        vertical-align: top;\n",
       "    }\n",
       "\n",
       "    .dataframe thead th {\n",
       "        text-align: right;\n",
       "    }\n",
       "</style>\n",
       "<table border=\"1\" class=\"dataframe\">\n",
       "  <thead>\n",
       "    <tr style=\"text-align: right;\">\n",
       "      <th></th>\n",
       "      <th>player</th>\n",
       "      <th>report</th>\n",
       "      <th>year</th>\n",
       "      <th>pos_x</th>\n",
       "      <th>weight</th>\n",
       "      <th>height</th>\n",
       "      <th>pos_rk</th>\n",
       "      <th>ovr_rk</th>\n",
       "      <th>grade</th>\n",
       "      <th>pos_y</th>\n",
       "      <th>age</th>\n",
       "      <th>Round</th>\n",
       "      <th>Pick</th>\n",
       "    </tr>\n",
       "  </thead>\n",
       "  <tbody>\n",
       "    <tr>\n",
       "      <th>0</th>\n",
       "      <td>Alex Smith</td>\n",
       "      <td>Nephew of Michigan State head coach John L. Sm...</td>\n",
       "      <td>2005.0</td>\n",
       "      <td>QB</td>\n",
       "      <td>217.0</td>\n",
       "      <td>76.125</td>\n",
       "      <td>2.0</td>\n",
       "      <td>3.0</td>\n",
       "      <td>98.0</td>\n",
       "      <td>QB</td>\n",
       "      <td>21</td>\n",
       "      <td>1</td>\n",
       "      <td>1</td>\n",
       "    </tr>\n",
       "    <tr>\n",
       "      <th>2</th>\n",
       "      <td>Ronnie Brown</td>\n",
       "      <td>Brown has played second fiddle to Carnell Will...</td>\n",
       "      <td>2005.0</td>\n",
       "      <td>RB</td>\n",
       "      <td>233.0</td>\n",
       "      <td>72.250</td>\n",
       "      <td>1.0</td>\n",
       "      <td>4.0</td>\n",
       "      <td>98.0</td>\n",
       "      <td>RB</td>\n",
       "      <td>23</td>\n",
       "      <td>1</td>\n",
       "      <td>2</td>\n",
       "    </tr>\n",
       "    <tr>\n",
       "      <th>3</th>\n",
       "      <td>Braylon Edwards</td>\n",
       "      <td>Edwards' father, Stanley, played at Michigan a...</td>\n",
       "      <td>2005.0</td>\n",
       "      <td>WR</td>\n",
       "      <td>211.0</td>\n",
       "      <td>74.875</td>\n",
       "      <td>1.0</td>\n",
       "      <td>1.0</td>\n",
       "      <td>99.0</td>\n",
       "      <td>WR</td>\n",
       "      <td>22</td>\n",
       "      <td>1</td>\n",
       "      <td>3</td>\n",
       "    </tr>\n",
       "    <tr>\n",
       "      <th>4</th>\n",
       "      <td>Cedric Benson</td>\n",
       "      <td>Benson was drafted by the Los Angeles Dodgers ...</td>\n",
       "      <td>2005.0</td>\n",
       "      <td>RB</td>\n",
       "      <td>222.0</td>\n",
       "      <td>70.500</td>\n",
       "      <td>3.0</td>\n",
       "      <td>10.0</td>\n",
       "      <td>96.0</td>\n",
       "      <td>RB</td>\n",
       "      <td>22</td>\n",
       "      <td>1</td>\n",
       "      <td>4</td>\n",
       "    </tr>\n",
       "    <tr>\n",
       "      <th>5</th>\n",
       "      <td>Carnell Williams</td>\n",
       "      <td>Williams started two games and played in nine ...</td>\n",
       "      <td>2005.0</td>\n",
       "      <td>RB</td>\n",
       "      <td>217.0</td>\n",
       "      <td>70.875</td>\n",
       "      <td>2.0</td>\n",
       "      <td>6.0</td>\n",
       "      <td>97.0</td>\n",
       "      <td>NaN</td>\n",
       "      <td>NaN</td>\n",
       "      <td>1</td>\n",
       "      <td>5</td>\n",
       "    </tr>\n",
       "    <tr>\n",
       "      <th>...</th>\n",
       "      <td>...</td>\n",
       "      <td>...</td>\n",
       "      <td>...</td>\n",
       "      <td>...</td>\n",
       "      <td>...</td>\n",
       "      <td>...</td>\n",
       "      <td>...</td>\n",
       "      <td>...</td>\n",
       "      <td>...</td>\n",
       "      <td>...</td>\n",
       "      <td>...</td>\n",
       "      <td>...</td>\n",
       "      <td>...</td>\n",
       "    </tr>\n",
       "    <tr>\n",
       "      <th>5740</th>\n",
       "      <td>Jeff Gunter</td>\n",
       "      <td>Gunter is a versatile edge defender who lines ...</td>\n",
       "      <td>2022.0</td>\n",
       "      <td>NaN</td>\n",
       "      <td>NaN</td>\n",
       "      <td>NaN</td>\n",
       "      <td>NaN</td>\n",
       "      <td>NaN</td>\n",
       "      <td>NaN</td>\n",
       "      <td>OLB</td>\n",
       "      <td>23</td>\n",
       "      <td>7</td>\n",
       "      <td>252</td>\n",
       "    </tr>\n",
       "    <tr>\n",
       "      <th>5741</th>\n",
       "      <td>Trenton Gill</td>\n",
       "      <td>Gill has a strong leg. He led the ACC in punt ...</td>\n",
       "      <td>2022.0</td>\n",
       "      <td>NaN</td>\n",
       "      <td>NaN</td>\n",
       "      <td>NaN</td>\n",
       "      <td>NaN</td>\n",
       "      <td>NaN</td>\n",
       "      <td>NaN</td>\n",
       "      <td>P</td>\n",
       "      <td>23</td>\n",
       "      <td>7</td>\n",
       "      <td>255</td>\n",
       "    </tr>\n",
       "    <tr>\n",
       "      <th>5742</th>\n",
       "      <td>Jesse Luketa</td>\n",
       "      <td>Luketa is a relentless run-defender who has go...</td>\n",
       "      <td>2022.0</td>\n",
       "      <td>NaN</td>\n",
       "      <td>NaN</td>\n",
       "      <td>NaN</td>\n",
       "      <td>NaN</td>\n",
       "      <td>NaN</td>\n",
       "      <td>NaN</td>\n",
       "      <td>LB</td>\n",
       "      <td>23</td>\n",
       "      <td>7</td>\n",
       "      <td>256</td>\n",
       "    </tr>\n",
       "    <tr>\n",
       "      <th>5743</th>\n",
       "      <td>Marquis Hayes</td>\n",
       "      <td>Hayes is a mauler who plays with good leverage...</td>\n",
       "      <td>2022.0</td>\n",
       "      <td>NaN</td>\n",
       "      <td>NaN</td>\n",
       "      <td>NaN</td>\n",
       "      <td>NaN</td>\n",
       "      <td>NaN</td>\n",
       "      <td>NaN</td>\n",
       "      <td>OL</td>\n",
       "      <td>23</td>\n",
       "      <td>7</td>\n",
       "      <td>257</td>\n",
       "    </tr>\n",
       "    <tr>\n",
       "      <th>5744</th>\n",
       "      <td>Brock Purdy</td>\n",
       "      <td>Purdy started 46 games to end his career and o...</td>\n",
       "      <td>2022.0</td>\n",
       "      <td>NaN</td>\n",
       "      <td>NaN</td>\n",
       "      <td>NaN</td>\n",
       "      <td>NaN</td>\n",
       "      <td>NaN</td>\n",
       "      <td>NaN</td>\n",
       "      <td>QB</td>\n",
       "      <td>22</td>\n",
       "      <td>7</td>\n",
       "      <td>262</td>\n",
       "    </tr>\n",
       "  </tbody>\n",
       "</table>\n",
       "<p>4209 rows × 13 columns</p>\n",
       "</div>"
      ],
      "text/plain": [
       "                player                                             report  \\\n",
       "0           Alex Smith  Nephew of Michigan State head coach John L. Sm...   \n",
       "2         Ronnie Brown  Brown has played second fiddle to Carnell Will...   \n",
       "3      Braylon Edwards  Edwards' father, Stanley, played at Michigan a...   \n",
       "4        Cedric Benson  Benson was drafted by the Los Angeles Dodgers ...   \n",
       "5     Carnell Williams  Williams started two games and played in nine ...   \n",
       "...                ...                                                ...   \n",
       "5740       Jeff Gunter  Gunter is a versatile edge defender who lines ...   \n",
       "5741      Trenton Gill  Gill has a strong leg. He led the ACC in punt ...   \n",
       "5742      Jesse Luketa  Luketa is a relentless run-defender who has go...   \n",
       "5743     Marquis Hayes  Hayes is a mauler who plays with good leverage...   \n",
       "5744       Brock Purdy  Purdy started 46 games to end his career and o...   \n",
       "\n",
       "        year pos_x  weight  height  pos_rk  ovr_rk  grade pos_y  age  Round  \\\n",
       "0     2005.0    QB   217.0  76.125     2.0     3.0   98.0    QB   21      1   \n",
       "2     2005.0    RB   233.0  72.250     1.0     4.0   98.0    RB   23      1   \n",
       "3     2005.0    WR   211.0  74.875     1.0     1.0   99.0    WR   22      1   \n",
       "4     2005.0    RB   222.0  70.500     3.0    10.0   96.0    RB   22      1   \n",
       "5     2005.0    RB   217.0  70.875     2.0     6.0   97.0   NaN  NaN      1   \n",
       "...      ...   ...     ...     ...     ...     ...    ...   ...  ...    ...   \n",
       "5740  2022.0   NaN     NaN     NaN     NaN     NaN    NaN   OLB   23      7   \n",
       "5741  2022.0   NaN     NaN     NaN     NaN     NaN    NaN     P   23      7   \n",
       "5742  2022.0   NaN     NaN     NaN     NaN     NaN    NaN    LB   23      7   \n",
       "5743  2022.0   NaN     NaN     NaN     NaN     NaN    NaN    OL   23      7   \n",
       "5744  2022.0   NaN     NaN     NaN     NaN     NaN    NaN    QB   22      7   \n",
       "\n",
       "      Pick  \n",
       "0        1  \n",
       "2        2  \n",
       "3        3  \n",
       "4        4  \n",
       "5        5  \n",
       "...    ...  \n",
       "5740   252  \n",
       "5741   255  \n",
       "5742   256  \n",
       "5743   257  \n",
       "5744   262  \n",
       "\n",
       "[4209 rows x 13 columns]"
      ]
     },
     "execution_count": 141,
     "metadata": {},
     "output_type": "execute_result"
    }
   ],
   "source": [
    "# Only select rows with a report\n",
    "final = final[final.report.notna()]\n",
    "final"
   ]
  },
  {
   "cell_type": "markdown",
   "id": "777fb088",
   "metadata": {},
   "source": [
    "### Save report dataframe"
   ]
  },
  {
   "cell_type": "code",
   "execution_count": 142,
   "id": "bcf8e672",
   "metadata": {},
   "outputs": [],
   "source": [
    "final.to_parquet('./Data/draft_reports.parquet')"
   ]
  }
 ],
 "metadata": {
  "kernelspec": {
   "display_name": "Python 3 (ipykernel)",
   "language": "python",
   "name": "python3"
  },
  "language_info": {
   "codemirror_mode": {
    "name": "ipython",
    "version": 3
   },
   "file_extension": ".py",
   "mimetype": "text/x-python",
   "name": "python",
   "nbconvert_exporter": "python",
   "pygments_lexer": "ipython3",
   "version": "3.9.13"
  }
 },
 "nbformat": 4,
 "nbformat_minor": 5
}
