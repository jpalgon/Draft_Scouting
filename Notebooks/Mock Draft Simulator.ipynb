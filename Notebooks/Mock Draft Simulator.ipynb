{
 "cells": [
  {
   "cell_type": "markdown",
   "id": "ffee4687",
   "metadata": {},
   "source": [
    "# Mock Draft Simulator"
   ]
  },
  {
   "cell_type": "markdown",
   "id": "53f60044",
   "metadata": {},
   "source": [
    "### Import Relevant Libraries"
   ]
  },
  {
   "cell_type": "code",
   "execution_count": 1,
   "id": "ffa49ebf",
   "metadata": {},
   "outputs": [],
   "source": [
    "import pandas as pd\n",
    "import seaborn as sns\n",
    "import matplotlib.pyplot as plt\n",
    "import numpy as np\n",
    "\n",
    "import warnings\n",
    "warnings.filterwarnings(\"ignore\", category = DeprecationWarning)\n",
    "warnings.filterwarnings(\"ignore\", category = FutureWarning)\n",
    "warnings.filterwarnings(\"ignore\", category = UserWarning)\n",
    "\n",
    "from sklearn.model_selection import train_test_split, GridSearchCV\n",
    "from sklearn.ensemble import RandomForestRegressor\n",
    "from imblearn.pipeline import Pipeline\n",
    "from imblearn.over_sampling import SMOTE, RandomOverSampler\n",
    "from sklearn.preprocessing import LabelEncoder, StandardScaler, OneHotEncoder\n",
    "from sklearn.metrics import r2_score, mean_squared_error\n",
    "from sklearn.impute import SimpleImputer\n",
    "from sklearn.compose import ColumnTransformer\n",
    "\n",
    "import time\n",
    "\n",
    "import streamlit as st"
   ]
  },
  {
   "cell_type": "markdown",
   "id": "528977b7",
   "metadata": {},
   "source": [
    "### Read in the Data"
   ]
  },
  {
   "cell_type": "code",
   "execution_count": 2,
   "id": "563917da",
   "metadata": {},
   "outputs": [],
   "source": [
    "df = pd.read_parquet('./Data/mockdraft.parquet')"
   ]
  },
  {
   "cell_type": "code",
   "execution_count": 3,
   "id": "d050a2aa",
   "metadata": {},
   "outputs": [],
   "source": [
    "df.reset_index(inplace=True)"
   ]
  },
  {
   "cell_type": "code",
   "execution_count": 4,
   "id": "6003d41e",
   "metadata": {},
   "outputs": [],
   "source": [
    "df.drop(['index'],axis=1,inplace=True)"
   ]
  },
  {
   "cell_type": "code",
   "execution_count": 5,
   "id": "d64a5490",
   "metadata": {},
   "outputs": [],
   "source": [
    "df['year_col'] = df.year_col.astype('Int64')"
   ]
  },
  {
   "cell_type": "code",
   "execution_count": null,
   "id": "abe60e76",
   "metadata": {},
   "outputs": [],
   "source": [
    "st.title('NFL Mock Draft Simulator')\n",
    "st.image('Images/simulator.png',use_column_width='always')"
   ]
  },
  {
   "cell_type": "code",
   "execution_count": null,
   "id": "e1dd250e",
   "metadata": {},
   "outputs": [],
   "source": [
    "# Add sidebar\n",
    "st.sidebar.markdown(\"## Make a NFL Mock Draft\")\n",
    "st.sidebar.caption(\"About This App:\")\n",
    "st.sidebar.caption(\"Predict the NFL Draft for any year between 2005 and 2022\")\n",
    "\n",
    "# Sidebar cont.\n",
    "st.sidebar.markdown(\"#### Created by Josh Palgon\")\n",
    "st.sidebar.caption(\"Github: https://github.com/jpalgon/Draft_Scouting\")\n",
    "st.sidebar.caption(\"LinkedIn: https://www.linkedin.com/in/josh-palgon/\")"
   ]
  },
  {
   "cell_type": "code",
   "execution_count": null,
   "id": "ec717a55",
   "metadata": {},
   "outputs": [],
   "source": [
    "st.write(\"---\")\n",
    "year = st.selectbox('Select Year:',\n",
    "                   df.year_col.unique())\n",
    "'You selected: ',year"
   ]
  },
  {
   "cell_type": "markdown",
   "id": "dd57864b",
   "metadata": {},
   "source": [
    "### Create Mock Draft"
   ]
  },
  {
   "cell_type": "code",
   "execution_count": null,
   "id": "dc1a84db",
   "metadata": {},
   "outputs": [],
   "source": [
    "if st.button('Mock Draft'):\n",
    "    year = year\n",
    "    \n",
    "    # Implement Random Forest Model (best for Mock Drafting)\n",
    "    X = df.drop(['Pick_col'],axis=1)\n",
    "    label_encoder = LabelEncoder()\n",
    "\n",
    "    X_train = X[X.year_col != year]\n",
    "    X_test = X[X.year_col == year]\n",
    "    y_train = label_encoder.fit_transform(df.Pick_col[df.year_col != year])\n",
    "    y_test = label_encoder.fit_transform(df.Pick_col[df.year_col == year])\n",
    "\n",
    "    player_name = X_test.player_col\n",
    "    player_year = X_test.year_col\n",
    "    player_round = X_test.Round_col\n",
    "    player_target = X_test.target_col\n",
    "    player_pos = X_test.pos_col\n",
    "\n",
    "    X_train.drop(['player_col','year_col','Round_col','target_col'],axis=1,inplace=True)\n",
    "    X_test.drop(['player_col','year_col','Round_col','target_col'],axis=1,inplace=True)\n",
    "\n",
    "    num_cols = X_train.select_dtypes(['Int64','float64'])\n",
    "    cat_cols = X_train.select_dtypes('object')\n",
    "\n",
    "    num_transformer = Pipeline(steps=[('ss',StandardScaler()),\n",
    "                                 ('impute',SimpleImputer(strategy='constant'))])\n",
    "\n",
    "    cat_transformer = Pipeline(steps=[('ohe',OneHotEncoder(drop='first',sparse=False,handle_unknown='ignore'))])\n",
    "\n",
    "    transformer = ColumnTransformer(transformers=[\n",
    "        ('num',num_transformer,num_cols.columns),\n",
    "        ('cat',cat_transformer,cat_cols.columns)\n",
    "    ])\n",
    "\n",
    "    # Pipeline for transformations, sampling and the model\n",
    "    rfc_pipe = Pipeline([\n",
    "        ('transformer',transformer),\n",
    "        ('sample',None),\n",
    "        ('forest',RandomForestRegressor())\n",
    "    ])\n",
    "\n",
    "    grid = {\n",
    "        'sample':[RandomOverSampler(random_state=42),SMOTE(random_state=42)],\n",
    "        'forest__n_estimators':[102],\n",
    "        'forest__max_depth':[24],\n",
    "        'forest__min_samples_split':[2],\n",
    "        'forest__min_samples_leaf':[6]\n",
    "    }\n",
    "\n",
    "    forest = GridSearchCV(estimator=rfc_pipe,\n",
    "                              param_grid=grid,\n",
    "                              cv=5)\n",
    "    forest.fit(X_train, y_train)\n",
    "\n",
    "    y_pred = forest.predict(X_test)\n",
    "\n",
    "    results = pd.concat([player_name.reset_index(),player_round.reset_index(),player_year.reset_index(),X_test.reset_index(),pd.Series(y_pred),pd.Series(y_test)],axis=1)\n",
    "    mock_draft_year = results.sort_values(by=0)\n",
    "    mock_draft_year['Actual_Pick'] = mock_draft_year[1] + 1\n",
    "    mock_draft_year['Diff'] = (mock_draft_year[0] - mock_draft_year.Actual_Pick).abs() \n",
    "    mock = mock_draft_year[['player_col','Round_col', 'Actual_Pick',0,'Diff','ovr_rk_col','pos_col']].reset_index()\n",
    "    mock = mock[['player_col','Round_col', 'Actual_Pick',0,'Diff','ovr_rk_col','pos_col']]\n",
    "    mock.columns = ['Player','Drafted_Round','Actual_Pick','Predicted_Pick','Difference','Overall_Rank','Pos']\n",
    "    mock['Predicted_Pick'] = round(mock['Predicted_Pick'],2)\n",
    "    mock['Difference'] = round(mock.Difference,2)\n",
    "    mock['Mock_Pick'] = range(1, len(mock) + 1)\n",
    "    mock['Mock_Difference'] = round(mock.Mock_Pick - mock.Actual_Pick,2)\n",
    "    final = mock[['Player','Pos','Actual_Pick','Predicted_Pick','Difference','Drafted_Round']]\n",
    "    final = final.style.background_gradient(cmap='rocket',subset='Difference').set_precision(2)\n",
    "    with st.spinner('Simulating...'):\n",
    "        time.sleep(1)\n",
    "    \n",
    "    st.write(final)"
   ]
  },
  {
   "cell_type": "code",
   "execution_count": null,
   "id": "69e94d94",
   "metadata": {},
   "outputs": [],
   "source": [
    "st.write(\"---\")\n",
    "st.header('Get In Touch With Me!')\n",
    "st.write('##')\n",
    "    \n",
    "contact_form = \"\"\"\n",
    "<form action=\"https://formsubmit.co/jopalgon@gmail.com\" method=\"POST\">\n",
    "     <input type='hidden' name='_captcha' value='false'>\n",
    "     <input type=\"text\" name=\"name\" placeholder=\"Your name\" required>\n",
    "     <input type=\"email\" name=\"email\" placeholder=\"Your email\" required>\n",
    "     <textarea name=\"message\" placeholder=\"Your message here\" required></textarea>\n",
    "     <button type=\"submit\">Send</button>\n",
    "</form>\n",
    "\"\"\"\n",
    "\n",
    "left_column, right_column = st.columns(2)\n",
    "with left_column:\n",
    "    st.markdown(contact_form, unsafe_allow_html=True)\n",
    "    with right_column:\n",
    "        st.empty()"
   ]
  }
 ],
 "metadata": {
  "kernelspec": {
   "display_name": "Python 3 (ipykernel)",
   "language": "python",
   "name": "python3"
  },
  "language_info": {
   "codemirror_mode": {
    "name": "ipython",
    "version": 3
   },
   "file_extension": ".py",
   "mimetype": "text/x-python",
   "name": "python",
   "nbconvert_exporter": "python",
   "pygments_lexer": "ipython3",
   "version": "3.9.13"
  }
 },
 "nbformat": 4,
 "nbformat_minor": 5
}
