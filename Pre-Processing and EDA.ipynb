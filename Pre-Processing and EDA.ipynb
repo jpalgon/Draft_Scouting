{
 "cells": [
  {
   "cell_type": "markdown",
   "id": "3d83ec60",
   "metadata": {},
   "source": [
    "# Pre-Processing"
   ]
  },
  {
   "cell_type": "code",
   "execution_count": null,
   "id": "336aaa7c",
   "metadata": {},
   "outputs": [],
   "source": [
    "import pandas as pd\n",
    "import seaborn as sns\n",
    "import matplotlib.pyplot as plt\n",
    "import nltk\n",
    "nltk.download('stopwords')\n",
    "from nltk.corpus import stopwords\n",
    "from nltk.tokenize import RegexpTokenizer\n",
    "from sklearn.feature_extraction.text import CountVectorizer \n",
    "from nltk.stem import snowball"
   ]
  },
  {
   "cell_type": "code",
   "execution_count": null,
   "id": "58570e36",
   "metadata": {},
   "outputs": [],
   "source": []
  },
  {
   "cell_type": "code",
   "execution_count": null,
   "id": "1f3fe9f7",
   "metadata": {},
   "outputs": [],
   "source": [
    "tokenizer = RegexpTokenizer(r\"(?u)\\w{3,}\")\n",
    "stop_words_list = stopwords.words('english')\n",
    "stemmer = snowball.EnglishStemmer()"
   ]
  },
  {
   "cell_type": "code",
   "execution_count": null,
   "id": "edd4abd6",
   "metadata": {},
   "outputs": [],
   "source": [
    "def clean (text, tokenizer, stop_words_list,stemmer):\n",
    "    lower_text = text.lower()\n",
    "    token_text = tokenizer.tokenize(lower_text)\n",
    "    stop_text = [word for word in token_text if word not in stop_words_list]\n",
    "    stem_text = [stemmer.stem(word) for word in stop_text]\n",
    "    return stem_text\n",
    "    "
   ]
  },
  {
   "cell_type": "code",
   "execution_count": null,
   "id": "56d44188",
   "metadata": {},
   "outputs": [],
   "source": [
    "text_data = report.apply(lambda x: clean(x,tokenizer, stop_words_list,stemmer))"
   ]
  },
  {
   "cell_type": "code",
   "execution_count": null,
   "id": "266ff983",
   "metadata": {},
   "outputs": [],
   "source": [
    "report['processed_report'] = text_data"
   ]
  },
  {
   "cell_type": "code",
   "execution_count": null,
   "id": "1e328774",
   "metadata": {},
   "outputs": [],
   "source": [
    "cv = CountVectorizer(stop_words='english',min_df=.05,max_df=.9,)\n",
    "cv.fit_transform(text_data)"
   ]
  },
  {
   "cell_type": "code",
   "execution_count": null,
   "id": "027bc4d4",
   "metadata": {},
   "outputs": [],
   "source": [
    "cv.get_feature_names_out()"
   ]
  }
 ],
 "metadata": {
  "kernelspec": {
   "display_name": "Python 3 (ipykernel)",
   "language": "python",
   "name": "python3"
  },
  "language_info": {
   "codemirror_mode": {
    "name": "ipython",
    "version": 3
   },
   "file_extension": ".py",
   "mimetype": "text/x-python",
   "name": "python",
   "nbconvert_exporter": "python",
   "pygments_lexer": "ipython3",
   "version": "3.9.13"
  }
 },
 "nbformat": 4,
 "nbformat_minor": 5
}
