{
 "cells": [
  {
   "cell_type": "code",
   "execution_count": 1,
   "id": "3bafe42e",
   "metadata": {},
   "outputs": [],
   "source": [
    "import pandas as pd\n",
    "import numpy as np\n",
    "import matplotlib.pyplot as plt\n",
    "import seaborn as sns"
   ]
  },
  {
   "cell_type": "code",
   "execution_count": 2,
   "id": "e52d08d0",
   "metadata": {},
   "outputs": [],
   "source": [
    "j = pd.read_csv('./Data/nfl_draft_prospects.csv')\n",
    "draft = pd.read_csv('./Data/nfl_draft_profiles.csv')"
   ]
  },
  {
   "cell_type": "code",
   "execution_count": 3,
   "id": "c8d438a5",
   "metadata": {},
   "outputs": [],
   "source": [
    "scout = draft.merge(j,how='left',on='player_id')"
   ]
  },
  {
   "cell_type": "code",
   "execution_count": 5,
   "id": "0b12da1c",
   "metadata": {},
   "outputs": [],
   "source": [
    "scout = scout[['player_name_x','pos_abbr_x','weight_x','height_x','school_x','pos_rk_x','ovr_rk_x','grade_x','text1','text2','text3','text4','draft_year','overall','round','team_abbr']]"
   ]
  },
  {
   "cell_type": "code",
   "execution_count": 6,
   "id": "b88b79af",
   "metadata": {},
   "outputs": [
    {
     "name": "stdout",
     "output_type": "stream",
     "text": [
      "<class 'pandas.core.frame.DataFrame'>\n",
      "Int64Index: 12905 entries, 0 to 12904\n",
      "Data columns (total 16 columns):\n",
      " #   Column         Non-Null Count  Dtype  \n",
      "---  ------         --------------  -----  \n",
      " 0   player_name_x  12905 non-null  object \n",
      " 1   pos_abbr_x     12905 non-null  object \n",
      " 2   weight_x       12905 non-null  int64  \n",
      " 3   height_x       12905 non-null  float64\n",
      " 4   school_x       12905 non-null  object \n",
      " 5   pos_rk_x       5761 non-null   float64\n",
      " 6   ovr_rk_x       5100 non-null   float64\n",
      " 7   grade_x        5767 non-null   float64\n",
      " 8   text1          2992 non-null   object \n",
      " 9   text2          3848 non-null   object \n",
      " 10  text3          534 non-null    object \n",
      " 11  text4          2 non-null      object \n",
      " 12  draft_year     12901 non-null  float64\n",
      " 13  overall        11343 non-null  float64\n",
      " 14  round          11343 non-null  float64\n",
      " 15  team_abbr      11343 non-null  object \n",
      "dtypes: float64(7), int64(1), object(8)\n",
      "memory usage: 1.7+ MB\n"
     ]
    }
   ],
   "source": [
    "scout.info()"
   ]
  },
  {
   "cell_type": "code",
   "execution_count": 7,
   "id": "997b1b1e",
   "metadata": {},
   "outputs": [],
   "source": [
    "texts = scout[(scout.text1.notna())|(scout.text2.notna())|(scout.text3.notna())|(scout.text4.notna())]"
   ]
  },
  {
   "cell_type": "code",
   "execution_count": 8,
   "id": "6b25a924",
   "metadata": {},
   "outputs": [
    {
     "name": "stderr",
     "output_type": "stream",
     "text": [
      "C:\\Users\\capta\\AppData\\Local\\Temp\\ipykernel_16664\\982957188.py:1: SettingWithCopyWarning: \n",
      "A value is trying to be set on a copy of a slice from a DataFrame.\n",
      "Try using .loc[row_indexer,col_indexer] = value instead\n",
      "\n",
      "See the caveats in the documentation: https://pandas.pydata.org/pandas-docs/stable/user_guide/indexing.html#returning-a-view-versus-a-copy\n",
      "  texts['report'] = None\n"
     ]
    }
   ],
   "source": [
    "texts['report'] = None"
   ]
  },
  {
   "cell_type": "code",
   "execution_count": 9,
   "id": "7d84b340",
   "metadata": {},
   "outputs": [
    {
     "name": "stdout",
     "output_type": "stream",
     "text": [
      "<class 'pandas.core.frame.DataFrame'>\n",
      "Int64Index: 4883 entries, 7375 to 12904\n",
      "Data columns (total 17 columns):\n",
      " #   Column         Non-Null Count  Dtype  \n",
      "---  ------         --------------  -----  \n",
      " 0   player_name_x  4883 non-null   object \n",
      " 1   pos_abbr_x     4883 non-null   object \n",
      " 2   weight_x       4883 non-null   int64  \n",
      " 3   height_x       4883 non-null   float64\n",
      " 4   school_x       4883 non-null   object \n",
      " 5   pos_rk_x       4763 non-null   float64\n",
      " 6   ovr_rk_x       4165 non-null   float64\n",
      " 7   grade_x        4769 non-null   float64\n",
      " 8   text1          2992 non-null   object \n",
      " 9   text2          3848 non-null   object \n",
      " 10  text3          534 non-null    object \n",
      " 11  text4          2 non-null      object \n",
      " 12  draft_year     4882 non-null   float64\n",
      " 13  overall        4040 non-null   float64\n",
      " 14  round          4040 non-null   float64\n",
      " 15  team_abbr      4040 non-null   object \n",
      " 16  report         0 non-null      object \n",
      "dtypes: float64(7), int64(1), object(9)\n",
      "memory usage: 686.7+ KB\n"
     ]
    }
   ],
   "source": [
    "texts.info()"
   ]
  },
  {
   "cell_type": "code",
   "execution_count": 10,
   "id": "4099774c",
   "metadata": {},
   "outputs": [],
   "source": [
    "texts.loc[(texts.text1.notna())&(texts.text2.isna()),'report'] = texts.loc[(texts.text1.notna())&(texts.text2.isna())].text1 "
   ]
  },
  {
   "cell_type": "code",
   "execution_count": 11,
   "id": "d0d95729",
   "metadata": {},
   "outputs": [],
   "source": [
    "texts.loc[(texts.text2.notna())&(texts.text1.isna()),'report'] = texts.loc[(texts.text2.notna())&(texts.text1.isna())].text2 "
   ]
  },
  {
   "cell_type": "code",
   "execution_count": 12,
   "id": "aecc6a25",
   "metadata": {},
   "outputs": [],
   "source": [
    "texts.loc[(texts.text2.isna())&(texts.text1.isna())&(texts.text3.notna()),'report'] = texts.loc[(texts.text2.isna())&(texts.text1.isna())&(texts.text3.notna())].text3 "
   ]
  },
  {
   "cell_type": "code",
   "execution_count": 13,
   "id": "063e8382",
   "metadata": {},
   "outputs": [],
   "source": [
    "texts.loc[(texts.report.isna()),'report'] = texts.loc[(texts.report.isna())].text1"
   ]
  },
  {
   "cell_type": "code",
   "execution_count": 14,
   "id": "e37da97e",
   "metadata": {},
   "outputs": [
    {
     "name": "stdout",
     "output_type": "stream",
     "text": [
      "<class 'pandas.core.frame.DataFrame'>\n",
      "Int64Index: 4883 entries, 7375 to 12904\n",
      "Data columns (total 17 columns):\n",
      " #   Column         Non-Null Count  Dtype  \n",
      "---  ------         --------------  -----  \n",
      " 0   player_name_x  4883 non-null   object \n",
      " 1   pos_abbr_x     4883 non-null   object \n",
      " 2   weight_x       4883 non-null   int64  \n",
      " 3   height_x       4883 non-null   float64\n",
      " 4   school_x       4883 non-null   object \n",
      " 5   pos_rk_x       4763 non-null   float64\n",
      " 6   ovr_rk_x       4165 non-null   float64\n",
      " 7   grade_x        4769 non-null   float64\n",
      " 8   text1          2992 non-null   object \n",
      " 9   text2          3848 non-null   object \n",
      " 10  text3          534 non-null    object \n",
      " 11  text4          2 non-null      object \n",
      " 12  draft_year     4882 non-null   float64\n",
      " 13  overall        4040 non-null   float64\n",
      " 14  round          4040 non-null   float64\n",
      " 15  team_abbr      4040 non-null   object \n",
      " 16  report         4883 non-null   object \n",
      "dtypes: float64(7), int64(1), object(9)\n",
      "memory usage: 686.7+ KB\n"
     ]
    }
   ],
   "source": [
    "texts.info()"
   ]
  },
  {
   "cell_type": "code",
   "execution_count": 28,
   "id": "d4417073",
   "metadata": {},
   "outputs": [],
   "source": [
    "texts.reset_index(inplace=True)"
   ]
  },
  {
   "cell_type": "code",
   "execution_count": 30,
   "id": "82842e4e",
   "metadata": {},
   "outputs": [
    {
     "name": "stderr",
     "output_type": "stream",
     "text": [
      "C:\\Users\\capta\\AppData\\Local\\Temp\\ipykernel_16664\\3926660189.py:1: SettingWithCopyWarning: \n",
      "A value is trying to be set on a copy of a slice from a DataFrame\n",
      "\n",
      "See the caveats in the documentation: https://pandas.pydata.org/pandas-docs/stable/user_guide/indexing.html#returning-a-view-versus-a-copy\n",
      "  texts.drop(['index'],axis=1,inplace=True)\n"
     ]
    }
   ],
   "source": [
    "texts.drop(['index'],axis=1,inplace=True)"
   ]
  },
  {
   "cell_type": "code",
   "execution_count": 42,
   "id": "fbbb8853",
   "metadata": {},
   "outputs": [
    {
     "data": {
      "text/plain": [
       "\"Nephew of Michigan State head coach John L. Smith.  Alex attempted only five passes as a freshman reserve QB in 2002.  He took over the starting job three games into his sophomore season vs. Cal in 2003 and wound up completing 65-percent of his passes for 2,247 yards with 15 touchdowns compared to just three interceptions.   He also rushed for 452 yards in 2003.  As a junior in 2004, Smith started all 12 games, went undefeated as a starter and led the Utes to a Fiesta Bowl win over Pittsburgh.  Prior to declaring himself available for the 2005 NFL draft, Smith completed 66.1-percent of his passes for 2,624 yards with 28 TD's and four INT's, while also rushing for another 563 yards and 10 TD's.  Smith could have used another year at the collegiate level in order to bulk up and improve his overall strength, but his decision makes sense following a nearly perfect junior season and with head coach Urban Meyer leaving for Florida.  Smith still needs to get bigger and he lacks ideal arm strength.  He also will have a big adjustment transitioning from the mid-major college level (Mountain West Conference) to the NFL.  However, there isn't a more intelligent quarterback in this class and few are as competitive.  Smith is a fine athlete, he has the frame to get bigger and he has enough arm strength to get by at the next level if he does everything else correctly.  In our opinion, Smith ranks just below Cal's Aaron Rodgers as the second quarterback in the 2005 class.  He likely would have been the fourth quarterback selected (behind Eli Manning, Philip Rivers and Ben Roethlisberger) a year ago, but in what is a noticeably weak top of the board in this year's draft Smith could very likely be a top-10 selection.\""
      ]
     },
     "execution_count": 42,
     "metadata": {},
     "output_type": "execute_result"
    }
   ],
   "source": [
    "texts.report[0]"
   ]
  },
  {
   "cell_type": "code",
   "execution_count": 43,
   "id": "f23e5094",
   "metadata": {},
   "outputs": [],
   "source": [
    "report = texts.report"
   ]
  },
  {
   "cell_type": "code",
   "execution_count": 16,
   "id": "8db31259",
   "metadata": {},
   "outputs": [
    {
     "name": "stderr",
     "output_type": "stream",
     "text": [
      "[nltk_data] Downloading package stopwords to\n",
      "[nltk_data]     C:\\Users\\capta\\AppData\\Roaming\\nltk_data...\n",
      "[nltk_data]   Package stopwords is already up-to-date!\n"
     ]
    }
   ],
   "source": [
    "import nltk\n",
    "nltk.download('stopwords')\n",
    "from nltk.corpus import stopwords\n",
    "from nltk.tokenize import RegexpTokenizer\n",
    "from sklearn.feature_extraction.text import CountVectorizer \n",
    "from nltk.stem import snowball"
   ]
  },
  {
   "cell_type": "code",
   "execution_count": 63,
   "id": "a42be41c",
   "metadata": {},
   "outputs": [],
   "source": [
    "tokenizer = RegexpTokenizer(r\"(?u)\\w{3,}\")\n",
    "stop_words_list = stopwords.words('english')\n",
    "stemmer = snowball.EnglishStemmer()"
   ]
  },
  {
   "cell_type": "code",
   "execution_count": 64,
   "id": "b5323e2e",
   "metadata": {},
   "outputs": [],
   "source": [
    "def clean (text, tokenizer, stop_words_list,stemmer):\n",
    "    lower_text = text.lower()\n",
    "    token_text = tokenizer.tokenize(lower_text)\n",
    "    stop_text = [word for word in token_text if word not in stop_words_list]\n",
    "    stem_text = [stemmer.stem(word) for word in stop_text]\n",
    "    return stem_text\n",
    "    "
   ]
  },
  {
   "cell_type": "code",
   "execution_count": 66,
   "id": "b19c5cfe",
   "metadata": {},
   "outputs": [],
   "source": [
    "text_data = report.apply(lambda x: clean(x,tokenizer, stop_words_list,stemmer))"
   ]
  },
  {
   "cell_type": "code",
   "execution_count": 67,
   "id": "c735dab1",
   "metadata": {},
   "outputs": [
    {
     "data": {
      "text/plain": [
       "0       [nephew, michigan, state, head, coach, john, s...\n",
       "1       [brown, play, second, fiddl, carnel, william, ...\n",
       "2       [edward, father, stanley, play, michigan, nfl,...\n",
       "3       [benson, draft, los, angel, dodger, 12th, roun...\n",
       "4       [william, start, two, game, play, nine, 2001, ...\n",
       "                              ...                        \n",
       "4878    [jone, big, strong, enough, hold, ground, poin...\n",
       "4879    [carter, unders, fullback, use, back, type, ls...\n",
       "4880    [adam, averag, size, top, end, speed, play, ba...\n",
       "4881    [stiner, interchang, safeti, averag, size, spe...\n",
       "4882    [imatorbhebh, big, target, averag, speed, good...\n",
       "Name: report, Length: 4883, dtype: object"
      ]
     },
     "execution_count": 67,
     "metadata": {},
     "output_type": "execute_result"
    }
   ],
   "source": [
    "text_data"
   ]
  },
  {
   "cell_type": "code",
   "execution_count": 69,
   "id": "098809b3",
   "metadata": {},
   "outputs": [
    {
     "name": "stderr",
     "output_type": "stream",
     "text": [
      "C:\\Users\\capta\\AppData\\Local\\Temp\\ipykernel_16664\\1503559796.py:1: SettingWithCopyWarning: \n",
      "A value is trying to be set on a copy of a slice from a DataFrame\n",
      "\n",
      "See the caveats in the documentation: https://pandas.pydata.org/pandas-docs/stable/user_guide/indexing.html#returning-a-view-versus-a-copy\n",
      "  report['processed_report'] = text_data\n",
      "C:\\Users\\capta\\AppData\\Local\\Temp\\ipykernel_16664\\1503559796.py:1: SettingWithCopyWarning: \n",
      "A value is trying to be set on a copy of a slice from a DataFrame\n",
      "\n",
      "See the caveats in the documentation: https://pandas.pydata.org/pandas-docs/stable/user_guide/indexing.html#returning-a-view-versus-a-copy\n",
      "  report['processed_report'] = text_data\n"
     ]
    }
   ],
   "source": [
    "report['processed_report'] = text_data"
   ]
  },
  {
   "cell_type": "code",
   "execution_count": 70,
   "id": "37cb2a29",
   "metadata": {},
   "outputs": [
    {
     "data": {
      "text/plain": [
       "0       [nephew, michigan, state, head, coach, john, s...\n",
       "1       [brown, play, second, fiddl, carnel, william, ...\n",
       "2       [edward, father, stanley, play, michigan, nfl,...\n",
       "3       [benson, draft, los, angel, dodger, 12th, roun...\n",
       "4       [william, start, two, game, play, nine, 2001, ...\n",
       "                              ...                        \n",
       "4878    [jone, big, strong, enough, hold, ground, poin...\n",
       "4879    [carter, unders, fullback, use, back, type, ls...\n",
       "4880    [adam, averag, size, top, end, speed, play, ba...\n",
       "4881    [stiner, interchang, safeti, averag, size, spe...\n",
       "4882    [imatorbhebh, big, target, averag, speed, good...\n",
       "Name: report, Length: 4883, dtype: object"
      ]
     },
     "execution_count": 70,
     "metadata": {},
     "output_type": "execute_result"
    }
   ],
   "source": [
    "report.processed_report"
   ]
  },
  {
   "cell_type": "code",
   "execution_count": 68,
   "id": "4c940bc8",
   "metadata": {},
   "outputs": [
    {
     "ename": "AttributeError",
     "evalue": "'list' object has no attribute 'lower'",
     "output_type": "error",
     "traceback": [
      "\u001b[1;31m---------------------------------------------------------------------------\u001b[0m",
      "\u001b[1;31mAttributeError\u001b[0m                            Traceback (most recent call last)",
      "\u001b[1;32m~\\AppData\\Local\\Temp\\ipykernel_16664\\2026877398.py\u001b[0m in \u001b[0;36m<module>\u001b[1;34m\u001b[0m\n\u001b[0;32m      1\u001b[0m \u001b[0mcv\u001b[0m \u001b[1;33m=\u001b[0m \u001b[0mCountVectorizer\u001b[0m\u001b[1;33m(\u001b[0m\u001b[0mstop_words\u001b[0m\u001b[1;33m=\u001b[0m\u001b[1;34m'english'\u001b[0m\u001b[1;33m,\u001b[0m\u001b[0mmin_df\u001b[0m\u001b[1;33m=\u001b[0m\u001b[1;36m.05\u001b[0m\u001b[1;33m,\u001b[0m\u001b[0mmax_df\u001b[0m\u001b[1;33m=\u001b[0m\u001b[1;36m.9\u001b[0m\u001b[1;33m,\u001b[0m\u001b[1;33m)\u001b[0m\u001b[1;33m\u001b[0m\u001b[1;33m\u001b[0m\u001b[0m\n\u001b[1;32m----> 2\u001b[1;33m \u001b[0mcv\u001b[0m\u001b[1;33m.\u001b[0m\u001b[0mfit_transform\u001b[0m\u001b[1;33m(\u001b[0m\u001b[0mtext_data\u001b[0m\u001b[1;33m)\u001b[0m\u001b[1;33m\u001b[0m\u001b[1;33m\u001b[0m\u001b[0m\n\u001b[0m",
      "\u001b[1;32m~\\anaconda3\\lib\\site-packages\\sklearn\\feature_extraction\\text.py\u001b[0m in \u001b[0;36mfit_transform\u001b[1;34m(self, raw_documents, y)\u001b[0m\n\u001b[0;32m   1328\u001b[0m                     \u001b[1;32mbreak\u001b[0m\u001b[1;33m\u001b[0m\u001b[1;33m\u001b[0m\u001b[0m\n\u001b[0;32m   1329\u001b[0m \u001b[1;33m\u001b[0m\u001b[0m\n\u001b[1;32m-> 1330\u001b[1;33m         \u001b[0mvocabulary\u001b[0m\u001b[1;33m,\u001b[0m \u001b[0mX\u001b[0m \u001b[1;33m=\u001b[0m \u001b[0mself\u001b[0m\u001b[1;33m.\u001b[0m\u001b[0m_count_vocab\u001b[0m\u001b[1;33m(\u001b[0m\u001b[0mraw_documents\u001b[0m\u001b[1;33m,\u001b[0m \u001b[0mself\u001b[0m\u001b[1;33m.\u001b[0m\u001b[0mfixed_vocabulary_\u001b[0m\u001b[1;33m)\u001b[0m\u001b[1;33m\u001b[0m\u001b[1;33m\u001b[0m\u001b[0m\n\u001b[0m\u001b[0;32m   1331\u001b[0m \u001b[1;33m\u001b[0m\u001b[0m\n\u001b[0;32m   1332\u001b[0m         \u001b[1;32mif\u001b[0m \u001b[0mself\u001b[0m\u001b[1;33m.\u001b[0m\u001b[0mbinary\u001b[0m\u001b[1;33m:\u001b[0m\u001b[1;33m\u001b[0m\u001b[1;33m\u001b[0m\u001b[0m\n",
      "\u001b[1;32m~\\anaconda3\\lib\\site-packages\\sklearn\\feature_extraction\\text.py\u001b[0m in \u001b[0;36m_count_vocab\u001b[1;34m(self, raw_documents, fixed_vocab)\u001b[0m\n\u001b[0;32m   1199\u001b[0m         \u001b[1;32mfor\u001b[0m \u001b[0mdoc\u001b[0m \u001b[1;32min\u001b[0m \u001b[0mraw_documents\u001b[0m\u001b[1;33m:\u001b[0m\u001b[1;33m\u001b[0m\u001b[1;33m\u001b[0m\u001b[0m\n\u001b[0;32m   1200\u001b[0m             \u001b[0mfeature_counter\u001b[0m \u001b[1;33m=\u001b[0m \u001b[1;33m{\u001b[0m\u001b[1;33m}\u001b[0m\u001b[1;33m\u001b[0m\u001b[1;33m\u001b[0m\u001b[0m\n\u001b[1;32m-> 1201\u001b[1;33m             \u001b[1;32mfor\u001b[0m \u001b[0mfeature\u001b[0m \u001b[1;32min\u001b[0m \u001b[0manalyze\u001b[0m\u001b[1;33m(\u001b[0m\u001b[0mdoc\u001b[0m\u001b[1;33m)\u001b[0m\u001b[1;33m:\u001b[0m\u001b[1;33m\u001b[0m\u001b[1;33m\u001b[0m\u001b[0m\n\u001b[0m\u001b[0;32m   1202\u001b[0m                 \u001b[1;32mtry\u001b[0m\u001b[1;33m:\u001b[0m\u001b[1;33m\u001b[0m\u001b[1;33m\u001b[0m\u001b[0m\n\u001b[0;32m   1203\u001b[0m                     \u001b[0mfeature_idx\u001b[0m \u001b[1;33m=\u001b[0m \u001b[0mvocabulary\u001b[0m\u001b[1;33m[\u001b[0m\u001b[0mfeature\u001b[0m\u001b[1;33m]\u001b[0m\u001b[1;33m\u001b[0m\u001b[1;33m\u001b[0m\u001b[0m\n",
      "\u001b[1;32m~\\anaconda3\\lib\\site-packages\\sklearn\\feature_extraction\\text.py\u001b[0m in \u001b[0;36m_analyze\u001b[1;34m(doc, analyzer, tokenizer, ngrams, preprocessor, decoder, stop_words)\u001b[0m\n\u001b[0;32m    111\u001b[0m     \u001b[1;32melse\u001b[0m\u001b[1;33m:\u001b[0m\u001b[1;33m\u001b[0m\u001b[1;33m\u001b[0m\u001b[0m\n\u001b[0;32m    112\u001b[0m         \u001b[1;32mif\u001b[0m \u001b[0mpreprocessor\u001b[0m \u001b[1;32mis\u001b[0m \u001b[1;32mnot\u001b[0m \u001b[1;32mNone\u001b[0m\u001b[1;33m:\u001b[0m\u001b[1;33m\u001b[0m\u001b[1;33m\u001b[0m\u001b[0m\n\u001b[1;32m--> 113\u001b[1;33m             \u001b[0mdoc\u001b[0m \u001b[1;33m=\u001b[0m \u001b[0mpreprocessor\u001b[0m\u001b[1;33m(\u001b[0m\u001b[0mdoc\u001b[0m\u001b[1;33m)\u001b[0m\u001b[1;33m\u001b[0m\u001b[1;33m\u001b[0m\u001b[0m\n\u001b[0m\u001b[0;32m    114\u001b[0m         \u001b[1;32mif\u001b[0m \u001b[0mtokenizer\u001b[0m \u001b[1;32mis\u001b[0m \u001b[1;32mnot\u001b[0m \u001b[1;32mNone\u001b[0m\u001b[1;33m:\u001b[0m\u001b[1;33m\u001b[0m\u001b[1;33m\u001b[0m\u001b[0m\n\u001b[0;32m    115\u001b[0m             \u001b[0mdoc\u001b[0m \u001b[1;33m=\u001b[0m \u001b[0mtokenizer\u001b[0m\u001b[1;33m(\u001b[0m\u001b[0mdoc\u001b[0m\u001b[1;33m)\u001b[0m\u001b[1;33m\u001b[0m\u001b[1;33m\u001b[0m\u001b[0m\n",
      "\u001b[1;32m~\\anaconda3\\lib\\site-packages\\sklearn\\feature_extraction\\text.py\u001b[0m in \u001b[0;36m_preprocess\u001b[1;34m(doc, accent_function, lower)\u001b[0m\n\u001b[0;32m     69\u001b[0m     \"\"\"\n\u001b[0;32m     70\u001b[0m     \u001b[1;32mif\u001b[0m \u001b[0mlower\u001b[0m\u001b[1;33m:\u001b[0m\u001b[1;33m\u001b[0m\u001b[1;33m\u001b[0m\u001b[0m\n\u001b[1;32m---> 71\u001b[1;33m         \u001b[0mdoc\u001b[0m \u001b[1;33m=\u001b[0m \u001b[0mdoc\u001b[0m\u001b[1;33m.\u001b[0m\u001b[0mlower\u001b[0m\u001b[1;33m(\u001b[0m\u001b[1;33m)\u001b[0m\u001b[1;33m\u001b[0m\u001b[1;33m\u001b[0m\u001b[0m\n\u001b[0m\u001b[0;32m     72\u001b[0m     \u001b[1;32mif\u001b[0m \u001b[0maccent_function\u001b[0m \u001b[1;32mis\u001b[0m \u001b[1;32mnot\u001b[0m \u001b[1;32mNone\u001b[0m\u001b[1;33m:\u001b[0m\u001b[1;33m\u001b[0m\u001b[1;33m\u001b[0m\u001b[0m\n\u001b[0;32m     73\u001b[0m         \u001b[0mdoc\u001b[0m \u001b[1;33m=\u001b[0m \u001b[0maccent_function\u001b[0m\u001b[1;33m(\u001b[0m\u001b[0mdoc\u001b[0m\u001b[1;33m)\u001b[0m\u001b[1;33m\u001b[0m\u001b[1;33m\u001b[0m\u001b[0m\n",
      "\u001b[1;31mAttributeError\u001b[0m: 'list' object has no attribute 'lower'"
     ]
    }
   ],
   "source": [
    "cv = CountVectorizer(stop_words='english',min_df=.05,max_df=.9,)\n",
    "cv.fit_transform(text_data)"
   ]
  },
  {
   "cell_type": "code",
   "execution_count": 61,
   "id": "5c75ea35",
   "metadata": {},
   "outputs": [
    {
     "data": {
      "text/plain": [
       "array(['10', '11', '12', '13', '14', '15', '2001', '2002', '2003', '2004',\n",
       "       '2005', '2006', '2007', '2015', '2016', '2017', '2019', '2020',\n",
       "       '40', 'ability', 'adequate', 'alt', 'analysis', 'appeared',\n",
       "       'april', 'arm', 'arms', 'assets', 'athlete', 'athletic',\n",
       "       'athleticism', 'average', 'backup', 'balance', 'ball', 'best',\n",
       "       'better', 'big', 'bit', 'blocker', 'blocks', 'body', 'border',\n",
       "       'bowl', 'br', 'brings', 'bulk', 'burst', 'career', 'catch',\n",
       "       'catches', 'caught', 'chance', 'class', 'college', 'com',\n",
       "       'combination', 'combine', 'comes', 'concerns', 'contribute',\n",
       "       'corner', 'cover', 'coverage', 'day', 'defender', 'defenders',\n",
       "       'defense', 'defensive', 'depth', 'develop', 'did', 'does', 'doesn',\n",
       "       'draft', 'durability', 'early', 'edge', 'effective', 'effort',\n",
       "       'elite', 'em', 'end', 'espn', 'evaluation', 'excellent',\n",
       "       'experience', 'explosive', 'field', 'final', 'finished',\n",
       "       'finishing', 'fit', 'fits', 'flashes', 'football', 'forced',\n",
       "       'frame', 'free', 'freshman', 'fulltime', 'game', 'games', 'gets',\n",
       "       'good', 'grades', 'great', 'guard', 'hand', 'hands', 'hard',\n",
       "       'height', 'high', 'href', 'http', 'icons', 'id', 'ideal', 'img',\n",
       "       'improve', 'including', 'inconsistent', 'injury', 'inside',\n",
       "       'instincts', 'interceptions', 'interior', 'isn', 'job', 'junior',\n",
       "       'just', 'knee', 'lack', 'lacks', 'late', 'left', 'length', 'level',\n",
       "       'like', 'likely', 'limited', 'line', 'linebacker', 'long', 'loss',\n",
       "       'lot', 'make', 'makes', 'making', 'man', 'march', 'middle',\n",
       "       'missed', 'natural', 'need', 'needs', 'nfl', 'offensive',\n",
       "       'outside', 'outstanding', 'overall', 'pass', 'passes', 'passing',\n",
       "       'past', 'physical', 'pick', 'play', 'played', 'player', 'players',\n",
       "       'playing', 'plays', 'point', 'position', 'possesses', 'potential',\n",
       "       'power', 'pro', 'production', 'productive', 'projects', 'prospect',\n",
       "       'quality', 'quarterback', 'quick', 'quickly', 'quickness', 'range',\n",
       "       'receiver', 'receivers', 'receptions', 'redshirt', 'redshirted',\n",
       "       'reserve', 'return', 'returned', 'right', 'round', 'route', 'run',\n",
       "       'runner', 'running', 'rusher', 'rushing', 'sacks', 'safety',\n",
       "       'scheme', 'school', 'season', 'seasons', 'second', 'senior', 'set',\n",
       "       'seven', 'short', 'shows', 'size', 'skills', 'slot', 'solid',\n",
       "       'sophomore', 'space', 'special', 'speed', 'sports', 'src',\n",
       "       'started', 'starter', 'starting', 'starts', 'state', 'strength',\n",
       "       'strong', 'stronger', 'tackle', 'tackler', 'tackles', 'tape',\n",
       "       'team', 'teams', 'technique', 'terms', 'threat', 'tight', 'time',\n",
       "       'times', 'tools', 'total', 'touchdowns', 'tough', 'toughness',\n",
       "       'true', 'undersized', 'upside', 'value', 'versatile',\n",
       "       'versatility', 'wide', 'width', 'work', 'yards', 'year', 'years',\n",
       "       'zone'], dtype=object)"
      ]
     },
     "execution_count": 61,
     "metadata": {},
     "output_type": "execute_result"
    }
   ],
   "source": [
    "cv.get_feature_names_out()"
   ]
  },
  {
   "cell_type": "code",
   "execution_count": 18,
   "id": "bcf8e672",
   "metadata": {},
   "outputs": [],
   "source": [
    "#texts.to_parquet('./Data/draft_reports.parquet')"
   ]
  }
 ],
 "metadata": {
  "kernelspec": {
   "display_name": "Python 3 (ipykernel)",
   "language": "python",
   "name": "python3"
  },
  "language_info": {
   "codemirror_mode": {
    "name": "ipython",
    "version": 3
   },
   "file_extension": ".py",
   "mimetype": "text/x-python",
   "name": "python",
   "nbconvert_exporter": "python",
   "pygments_lexer": "ipython3",
   "version": "3.9.13"
  }
 },
 "nbformat": 4,
 "nbformat_minor": 5
}
